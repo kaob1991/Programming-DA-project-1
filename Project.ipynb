{
 "cells": [
  {
   "cell_type": "markdown",
   "metadata": {},
   "source": [
    "For this project you must create a data set by simulating a real-world phenomenon of\n",
    "your choosing.\n",
    "you should model and synthesise such data using Python.\n",
    "We suggest you use the numpy.random package for this purpose.\n",
    "Specifically, in this project you should:\n",
    "• Choose a real-world phenomenon that can be measured and for which you could\n",
    "collect at least one-hundred data points across at least four different variables.\n",
    "• Investigate the types of variables involved, their likely distributions, and their\n",
    "relationships with each other.\n",
    "• Synthesise/simulate a data set as closely matching their properties as possible.\n",
    "• Detail your research and implement the simulation in a Jupyter notebook – the\n",
    "data set itself can simply be displayed in an output cell within the notebook."
   ]
  },
  {
   "cell_type": "code",
   "execution_count": 1,
   "metadata": {},
   "outputs": [],
   "source": [
    "#Requisite libraries and setings for analysis\n",
    "\n",
    "import pandas as pd\n",
    "\n",
    "import numpy as np\n",
    "\n",
    "import matplotlib.pyplot as plt\n",
    "\n",
    "import seaborn as sns\n",
    "\n",
    "\n",
    "pd.set_option('display.float_format', lambda x: '%.2f' % x)"
   ]
  },
  {
   "cell_type": "markdown",
   "metadata": {},
   "source": [
    "# Intro \n",
    "\n",
    "For this project I will be investigating the relationship that a number of variables have to a penguins weight. This is inspired by the dataset in increasingly greater use in data analytics called the ```palmer penguin``` dataset. This dataset is been touted as a replacement for the Fisher's Iris as a more ethical version to use. [1] Because of Fisher's links to eugenics, some analysts and computer scientists are uncomforable using this set. \n",
    "\n",
    "The ```palmer penguins``` are collected and published by [Dr.Kristen Gorman](https://www.uaf.edu/cfos/people/faculty/detail/kristen-gorman.php) and [Allison Horst](https://www.allisonhorst.com). The data in this set is collected from the Palmer Archipelago in Antartica and covers a large number of variables, which we will briefly look at below. The dataset is used under the CC-0 licence. \n",
    "\n",
    "\n",
    "[1]: https://towardsdatascience.com/data-analysis-in-python-getting-started-with-pandas-8cbcc1500c83"
   ]
  },
  {
   "cell_type": "code",
   "execution_count": 2,
   "metadata": {},
   "outputs": [],
   "source": [
    "penguins = pd.read_csv(\"https://raw.githubusercontent.com/kaob1991/Programming-project/main/penguins_lter.csv\")"
   ]
  },
  {
   "cell_type": "code",
   "execution_count": 3,
   "metadata": {},
   "outputs": [
    {
     "data": {
      "text/html": [
       "<div>\n",
       "<style scoped>\n",
       "    .dataframe tbody tr th:only-of-type {\n",
       "        vertical-align: middle;\n",
       "    }\n",
       "\n",
       "    .dataframe tbody tr th {\n",
       "        vertical-align: top;\n",
       "    }\n",
       "\n",
       "    .dataframe thead th {\n",
       "        text-align: right;\n",
       "    }\n",
       "</style>\n",
       "<table border=\"1\" class=\"dataframe\">\n",
       "  <thead>\n",
       "    <tr style=\"text-align: right;\">\n",
       "      <th></th>\n",
       "      <th>studyName</th>\n",
       "      <th>Sample Number</th>\n",
       "      <th>Species</th>\n",
       "      <th>Region</th>\n",
       "      <th>Island</th>\n",
       "      <th>Stage</th>\n",
       "      <th>Individual ID</th>\n",
       "      <th>Clutch Completion</th>\n",
       "      <th>Date Egg</th>\n",
       "      <th>Culmen Length (mm)</th>\n",
       "      <th>Culmen Depth (mm)</th>\n",
       "      <th>Flipper Length (mm)</th>\n",
       "      <th>Body Mass (g)</th>\n",
       "      <th>Sex</th>\n",
       "      <th>Delta 15 N (o/oo)</th>\n",
       "      <th>Delta 13 C (o/oo)</th>\n",
       "      <th>Comments</th>\n",
       "    </tr>\n",
       "  </thead>\n",
       "  <tbody>\n",
       "    <tr>\n",
       "      <th>0</th>\n",
       "      <td>PAL0708</td>\n",
       "      <td>1</td>\n",
       "      <td>Adelie Penguin (Pygoscelis adeliae)</td>\n",
       "      <td>Anvers</td>\n",
       "      <td>Torgersen</td>\n",
       "      <td>Adult, 1 Egg Stage</td>\n",
       "      <td>N1A1</td>\n",
       "      <td>Yes</td>\n",
       "      <td>11/11/07</td>\n",
       "      <td>39.10</td>\n",
       "      <td>18.70</td>\n",
       "      <td>181.00</td>\n",
       "      <td>3750.00</td>\n",
       "      <td>MALE</td>\n",
       "      <td>nan</td>\n",
       "      <td>nan</td>\n",
       "      <td>Not enough blood for isotopes.</td>\n",
       "    </tr>\n",
       "    <tr>\n",
       "      <th>1</th>\n",
       "      <td>PAL0708</td>\n",
       "      <td>2</td>\n",
       "      <td>Adelie Penguin (Pygoscelis adeliae)</td>\n",
       "      <td>Anvers</td>\n",
       "      <td>Torgersen</td>\n",
       "      <td>Adult, 1 Egg Stage</td>\n",
       "      <td>N1A2</td>\n",
       "      <td>Yes</td>\n",
       "      <td>11/11/07</td>\n",
       "      <td>39.50</td>\n",
       "      <td>17.40</td>\n",
       "      <td>186.00</td>\n",
       "      <td>3800.00</td>\n",
       "      <td>FEMALE</td>\n",
       "      <td>8.95</td>\n",
       "      <td>-24.69</td>\n",
       "      <td>NaN</td>\n",
       "    </tr>\n",
       "    <tr>\n",
       "      <th>2</th>\n",
       "      <td>PAL0708</td>\n",
       "      <td>3</td>\n",
       "      <td>Adelie Penguin (Pygoscelis adeliae)</td>\n",
       "      <td>Anvers</td>\n",
       "      <td>Torgersen</td>\n",
       "      <td>Adult, 1 Egg Stage</td>\n",
       "      <td>N2A1</td>\n",
       "      <td>Yes</td>\n",
       "      <td>11/16/07</td>\n",
       "      <td>40.30</td>\n",
       "      <td>18.00</td>\n",
       "      <td>195.00</td>\n",
       "      <td>3250.00</td>\n",
       "      <td>FEMALE</td>\n",
       "      <td>8.37</td>\n",
       "      <td>-25.33</td>\n",
       "      <td>NaN</td>\n",
       "    </tr>\n",
       "    <tr>\n",
       "      <th>3</th>\n",
       "      <td>PAL0708</td>\n",
       "      <td>4</td>\n",
       "      <td>Adelie Penguin (Pygoscelis adeliae)</td>\n",
       "      <td>Anvers</td>\n",
       "      <td>Torgersen</td>\n",
       "      <td>Adult, 1 Egg Stage</td>\n",
       "      <td>N2A2</td>\n",
       "      <td>Yes</td>\n",
       "      <td>11/16/07</td>\n",
       "      <td>nan</td>\n",
       "      <td>nan</td>\n",
       "      <td>nan</td>\n",
       "      <td>nan</td>\n",
       "      <td>NaN</td>\n",
       "      <td>nan</td>\n",
       "      <td>nan</td>\n",
       "      <td>Adult not sampled.</td>\n",
       "    </tr>\n",
       "    <tr>\n",
       "      <th>4</th>\n",
       "      <td>PAL0708</td>\n",
       "      <td>5</td>\n",
       "      <td>Adelie Penguin (Pygoscelis adeliae)</td>\n",
       "      <td>Anvers</td>\n",
       "      <td>Torgersen</td>\n",
       "      <td>Adult, 1 Egg Stage</td>\n",
       "      <td>N3A1</td>\n",
       "      <td>Yes</td>\n",
       "      <td>11/16/07</td>\n",
       "      <td>36.70</td>\n",
       "      <td>19.30</td>\n",
       "      <td>193.00</td>\n",
       "      <td>3450.00</td>\n",
       "      <td>FEMALE</td>\n",
       "      <td>8.77</td>\n",
       "      <td>-25.32</td>\n",
       "      <td>NaN</td>\n",
       "    </tr>\n",
       "  </tbody>\n",
       "</table>\n",
       "</div>"
      ],
      "text/plain": [
       "  studyName  Sample Number                              Species  Region  \\\n",
       "0   PAL0708              1  Adelie Penguin (Pygoscelis adeliae)  Anvers   \n",
       "1   PAL0708              2  Adelie Penguin (Pygoscelis adeliae)  Anvers   \n",
       "2   PAL0708              3  Adelie Penguin (Pygoscelis adeliae)  Anvers   \n",
       "3   PAL0708              4  Adelie Penguin (Pygoscelis adeliae)  Anvers   \n",
       "4   PAL0708              5  Adelie Penguin (Pygoscelis adeliae)  Anvers   \n",
       "\n",
       "      Island               Stage Individual ID Clutch Completion  Date Egg  \\\n",
       "0  Torgersen  Adult, 1 Egg Stage          N1A1               Yes  11/11/07   \n",
       "1  Torgersen  Adult, 1 Egg Stage          N1A2               Yes  11/11/07   \n",
       "2  Torgersen  Adult, 1 Egg Stage          N2A1               Yes  11/16/07   \n",
       "3  Torgersen  Adult, 1 Egg Stage          N2A2               Yes  11/16/07   \n",
       "4  Torgersen  Adult, 1 Egg Stage          N3A1               Yes  11/16/07   \n",
       "\n",
       "   Culmen Length (mm)  Culmen Depth (mm)  Flipper Length (mm)  Body Mass (g)  \\\n",
       "0               39.10              18.70               181.00        3750.00   \n",
       "1               39.50              17.40               186.00        3800.00   \n",
       "2               40.30              18.00               195.00        3250.00   \n",
       "3                 nan                nan                  nan            nan   \n",
       "4               36.70              19.30               193.00        3450.00   \n",
       "\n",
       "      Sex  Delta 15 N (o/oo)  Delta 13 C (o/oo)  \\\n",
       "0    MALE                nan                nan   \n",
       "1  FEMALE               8.95             -24.69   \n",
       "2  FEMALE               8.37             -25.33   \n",
       "3     NaN                nan                nan   \n",
       "4  FEMALE               8.77             -25.32   \n",
       "\n",
       "                         Comments  \n",
       "0  Not enough blood for isotopes.  \n",
       "1                             NaN  \n",
       "2                             NaN  \n",
       "3              Adult not sampled.  \n",
       "4                             NaN  "
      ]
     },
     "execution_count": 3,
     "metadata": {},
     "output_type": "execute_result"
    }
   ],
   "source": [
    "penguins.head()"
   ]
  },
  {
   "cell_type": "markdown",
   "metadata": {},
   "source": [
    "To make it easier to compare the variables, especially with correlation later in the project, we are removing some of the variables as these are not pertinent to the investigation. "
   ]
  },
  {
   "cell_type": "code",
   "execution_count": 4,
   "metadata": {},
   "outputs": [
    {
     "data": {
      "text/html": [
       "<div>\n",
       "<style scoped>\n",
       "    .dataframe tbody tr th:only-of-type {\n",
       "        vertical-align: middle;\n",
       "    }\n",
       "\n",
       "    .dataframe tbody tr th {\n",
       "        vertical-align: top;\n",
       "    }\n",
       "\n",
       "    .dataframe thead th {\n",
       "        text-align: right;\n",
       "    }\n",
       "</style>\n",
       "<table border=\"1\" class=\"dataframe\">\n",
       "  <thead>\n",
       "    <tr style=\"text-align: right;\">\n",
       "      <th></th>\n",
       "      <th>Species</th>\n",
       "      <th>Culmen Length (mm)</th>\n",
       "      <th>Culmen Depth (mm)</th>\n",
       "      <th>Flipper Length (mm)</th>\n",
       "      <th>Body Mass (g)</th>\n",
       "      <th>Sex</th>\n",
       "    </tr>\n",
       "  </thead>\n",
       "  <tbody>\n",
       "    <tr>\n",
       "      <th>0</th>\n",
       "      <td>Adelie Penguin (Pygoscelis adeliae)</td>\n",
       "      <td>39.10</td>\n",
       "      <td>18.70</td>\n",
       "      <td>181.00</td>\n",
       "      <td>3750.00</td>\n",
       "      <td>MALE</td>\n",
       "    </tr>\n",
       "    <tr>\n",
       "      <th>1</th>\n",
       "      <td>Adelie Penguin (Pygoscelis adeliae)</td>\n",
       "      <td>39.50</td>\n",
       "      <td>17.40</td>\n",
       "      <td>186.00</td>\n",
       "      <td>3800.00</td>\n",
       "      <td>FEMALE</td>\n",
       "    </tr>\n",
       "    <tr>\n",
       "      <th>2</th>\n",
       "      <td>Adelie Penguin (Pygoscelis adeliae)</td>\n",
       "      <td>40.30</td>\n",
       "      <td>18.00</td>\n",
       "      <td>195.00</td>\n",
       "      <td>3250.00</td>\n",
       "      <td>FEMALE</td>\n",
       "    </tr>\n",
       "    <tr>\n",
       "      <th>3</th>\n",
       "      <td>Adelie Penguin (Pygoscelis adeliae)</td>\n",
       "      <td>nan</td>\n",
       "      <td>nan</td>\n",
       "      <td>nan</td>\n",
       "      <td>nan</td>\n",
       "      <td>NaN</td>\n",
       "    </tr>\n",
       "    <tr>\n",
       "      <th>4</th>\n",
       "      <td>Adelie Penguin (Pygoscelis adeliae)</td>\n",
       "      <td>36.70</td>\n",
       "      <td>19.30</td>\n",
       "      <td>193.00</td>\n",
       "      <td>3450.00</td>\n",
       "      <td>FEMALE</td>\n",
       "    </tr>\n",
       "    <tr>\n",
       "      <th>...</th>\n",
       "      <td>...</td>\n",
       "      <td>...</td>\n",
       "      <td>...</td>\n",
       "      <td>...</td>\n",
       "      <td>...</td>\n",
       "      <td>...</td>\n",
       "    </tr>\n",
       "    <tr>\n",
       "      <th>339</th>\n",
       "      <td>Gentoo penguin (Pygoscelis papua)</td>\n",
       "      <td>nan</td>\n",
       "      <td>nan</td>\n",
       "      <td>nan</td>\n",
       "      <td>nan</td>\n",
       "      <td>NaN</td>\n",
       "    </tr>\n",
       "    <tr>\n",
       "      <th>340</th>\n",
       "      <td>Gentoo penguin (Pygoscelis papua)</td>\n",
       "      <td>46.80</td>\n",
       "      <td>14.30</td>\n",
       "      <td>215.00</td>\n",
       "      <td>4850.00</td>\n",
       "      <td>FEMALE</td>\n",
       "    </tr>\n",
       "    <tr>\n",
       "      <th>341</th>\n",
       "      <td>Gentoo penguin (Pygoscelis papua)</td>\n",
       "      <td>50.40</td>\n",
       "      <td>15.70</td>\n",
       "      <td>222.00</td>\n",
       "      <td>5750.00</td>\n",
       "      <td>MALE</td>\n",
       "    </tr>\n",
       "    <tr>\n",
       "      <th>342</th>\n",
       "      <td>Gentoo penguin (Pygoscelis papua)</td>\n",
       "      <td>45.20</td>\n",
       "      <td>14.80</td>\n",
       "      <td>212.00</td>\n",
       "      <td>5200.00</td>\n",
       "      <td>FEMALE</td>\n",
       "    </tr>\n",
       "    <tr>\n",
       "      <th>343</th>\n",
       "      <td>Gentoo penguin (Pygoscelis papua)</td>\n",
       "      <td>49.90</td>\n",
       "      <td>16.10</td>\n",
       "      <td>213.00</td>\n",
       "      <td>5400.00</td>\n",
       "      <td>MALE</td>\n",
       "    </tr>\n",
       "  </tbody>\n",
       "</table>\n",
       "<p>344 rows × 6 columns</p>\n",
       "</div>"
      ],
      "text/plain": [
       "                                 Species  Culmen Length (mm)  \\\n",
       "0    Adelie Penguin (Pygoscelis adeliae)               39.10   \n",
       "1    Adelie Penguin (Pygoscelis adeliae)               39.50   \n",
       "2    Adelie Penguin (Pygoscelis adeliae)               40.30   \n",
       "3    Adelie Penguin (Pygoscelis adeliae)                 nan   \n",
       "4    Adelie Penguin (Pygoscelis adeliae)               36.70   \n",
       "..                                   ...                 ...   \n",
       "339    Gentoo penguin (Pygoscelis papua)                 nan   \n",
       "340    Gentoo penguin (Pygoscelis papua)               46.80   \n",
       "341    Gentoo penguin (Pygoscelis papua)               50.40   \n",
       "342    Gentoo penguin (Pygoscelis papua)               45.20   \n",
       "343    Gentoo penguin (Pygoscelis papua)               49.90   \n",
       "\n",
       "     Culmen Depth (mm)  Flipper Length (mm)  Body Mass (g)     Sex  \n",
       "0                18.70               181.00        3750.00    MALE  \n",
       "1                17.40               186.00        3800.00  FEMALE  \n",
       "2                18.00               195.00        3250.00  FEMALE  \n",
       "3                  nan                  nan            nan     NaN  \n",
       "4                19.30               193.00        3450.00  FEMALE  \n",
       "..                 ...                  ...            ...     ...  \n",
       "339                nan                  nan            nan     NaN  \n",
       "340              14.30               215.00        4850.00  FEMALE  \n",
       "341              15.70               222.00        5750.00    MALE  \n",
       "342              14.80               212.00        5200.00  FEMALE  \n",
       "343              16.10               213.00        5400.00    MALE  \n",
       "\n",
       "[344 rows x 6 columns]"
      ]
     },
     "execution_count": 4,
     "metadata": {},
     "output_type": "execute_result"
    }
   ],
   "source": [
    "penguins = penguins.drop([\"Sample Number\",\"Delta 15 N (o/oo)\", \"Delta 13 C (o/oo)\",\"studyName\",\"Region\",\"Island\",\"Stage\",\"Individual ID\",\"Clutch Completion\",\"Date Egg\",\"Comments\"], axis = 1)\n",
    "penguins"
   ]
  },
  {
   "cell_type": "markdown",
   "metadata": {},
   "source": [
    "We can see from that data set that it covers a wide range of variables. There is culmen length, depth, flipper length, and sex; as well as the variable we will be investigating, the Body mass in grams. In this data set the max weight of a participant is 6300.0 grams, whereas the minimum is 2700.0 grams. This implies a substantial weight difference of almost twice as big. \n"
   ]
  },
  {
   "cell_type": "code",
   "execution_count": 5,
   "metadata": {},
   "outputs": [
    {
     "data": {
      "text/plain": [
       "2700.0"
      ]
     },
     "execution_count": 5,
     "metadata": {},
     "output_type": "execute_result"
    }
   ],
   "source": [
    "weight = penguins[\"Body Mass (g)\"]\n",
    "min_weight = weight.min()\n",
    "min_weight"
   ]
  },
  {
   "cell_type": "code",
   "execution_count": 6,
   "metadata": {},
   "outputs": [
    {
     "data": {
      "text/plain": [
       "6300.0"
      ]
     },
     "execution_count": 6,
     "metadata": {},
     "output_type": "execute_result"
    }
   ],
   "source": [
    "max_weight = weight. max()\n",
    "max_weight"
   ]
  },
  {
   "cell_type": "markdown",
   "metadata": {},
   "source": [
    "One thing that may explain the size differential of the subjects is the species type. There are 3 types of penguin in the current dataset. The Adelie Penguin, the Gentoo penguin, and the Chinstrap penguin. There looks to be more data available for the Adelie and Gentoo Penguin than the Chinstrap in this dataset. Below is a picture detailing the physical appearance of the 3 species.\n",
    "\n",
    "![Chinstrap Penguin](https://raw.githubusercontent.com/kaob1991/Programming-project/main/pengiuns.jpeg)"
   ]
  },
  {
   "cell_type": "code",
   "execution_count": 7,
   "metadata": {},
   "outputs": [
    {
     "data": {
      "text/plain": [
       "Adelie Penguin (Pygoscelis adeliae)          152\n",
       "Gentoo penguin (Pygoscelis papua)            124\n",
       "Chinstrap penguin (Pygoscelis antarctica)     68\n",
       "Name: Species, dtype: int64"
      ]
     },
     "execution_count": 7,
     "metadata": {},
     "output_type": "execute_result"
    }
   ],
   "source": [
    "penguins[\"Species\"].value_counts()\n"
   ]
  },
  {
   "cell_type": "markdown",
   "metadata": {},
   "source": [
    "The other variable that is commonly associated with a weight differential is sex, with the males of most species of animals often weighing more. The scatterplot below would seem to add credence to that theory where the males consistently weigh more than the females. It also would seem that the \"Gentoo\" species is a overall heavier bird than the Adelie and the Chinstrap penguin. Interestingly, the Chinstrap penguin looks to have a slightly greater variance overall in weight, when accounting for the number of variables in the data. "
   ]
  },
  {
   "cell_type": "code",
   "execution_count": 8,
   "metadata": {},
   "outputs": [
    {
     "data": {
      "text/plain": [
       "<AxesSubplot:xlabel='Species', ylabel='Body Mass (g)'>"
      ]
     },
     "execution_count": 8,
     "metadata": {},
     "output_type": "execute_result"
    },
    {
     "data": {
      "image/png": "[encoded data removed]",
      "text/plain": [
       "<Figure size 432x288 with 1 Axes>"
      ]
     },
     "metadata": {
      "needs_background": "light"
     },
     "output_type": "display_data"
    }
   ],
   "source": [
    "sns.scatterplot(data = penguins, x = \"Species\",y= \"Body Mass (g)\", hue = \"Sex\")"
   ]
  },
  {
   "cell_type": "markdown",
   "metadata": {},
   "source": [
    "After establishing there is possibly a relationship between the sex of the penguin, and body mass, the next step is to split the dataset into three, based on the species type. This will allow us have a clearer distribution of the data above, and to continue our investigation, and simulation of the data. "
   ]
  },
  {
   "cell_type": "code",
   "execution_count": 9,
   "metadata": {},
   "outputs": [],
   "source": [
    "adelie_data = penguins.loc [penguins [\"Species\"] == \"Adelie Penguin (Pygoscelis adeliae)\"]\n",
    "chinstrap_data = penguins.loc [penguins [\"Species\"] == \"Chinstrap penguin (Pygoscelis antarctica)\"]\n",
    "gentoo_data = penguins.loc [penguins [\"Species\"] == \"Gentoo penguin (Pygoscelis papua)\"]\n"
   ]
  },
  {
   "cell_type": "markdown",
   "metadata": {},
   "source": [
    "## Histograms of body weight\n",
    "***\n",
    "The body weights of the birds are drawm below. I've also added a kernel density estimate (KDE) as this will help smooth the data out and provide a clearer view of data trends. \n",
    "<br>\n",
    "\n",
    "There are 3 histograms below relating to the body weight of the 3 birds in the following order:\n",
    "- Gentoo Penguin\n",
    "- Adelie Penguin\n",
    "- Chinstrap penguin"
   ]
  },
  {
   "cell_type": "code",
   "execution_count": 10,
   "metadata": {},
   "outputs": [
    {
     "data": {
      "text/plain": [
       "<AxesSubplot:xlabel='Body Mass (g)', ylabel='Count'>"
      ]
     },
     "execution_count": 10,
     "metadata": {},
     "output_type": "execute_result"
    },
    {
     "data": {
      "image/png": "[encoded data removed]",
      "text/plain": [
       "<Figure size 432x288 with 1 Axes>"
      ]
     },
     "metadata": {
      "needs_background": "light"
     },
     "output_type": "display_data"
    }
   ],
   "source": [
    "sns.histplot(data = gentoo_data,x = \"Body Mass (g)\", kde = True)"
   ]
  },
  {
   "cell_type": "code",
   "execution_count": 11,
   "metadata": {},
   "outputs": [
    {
     "data": {
      "text/plain": [
       "<AxesSubplot:xlabel='Body Mass (g)', ylabel='Count'>"
      ]
     },
     "execution_count": 11,
     "metadata": {},
     "output_type": "execute_result"
    },
    {
     "data": {
      "image/png": "[encoded data removed]",
      "text/plain": [
       "<Figure size 432x288 with 1 Axes>"
      ]
     },
     "metadata": {
      "needs_background": "light"
     },
     "output_type": "display_data"
    }
   ],
   "source": [
    "sns.histplot(data = adelie_data,x = \"Body Mass (g)\", kde = True)"
   ]
  },
  {
   "cell_type": "code",
   "execution_count": 12,
   "metadata": {},
   "outputs": [
    {
     "data": {
      "text/plain": [
       "<AxesSubplot:xlabel='Body Mass (g)', ylabel='Count'>"
      ]
     },
     "execution_count": 12,
     "metadata": {},
     "output_type": "execute_result"
    },
    {
     "data": {
      "image/png": "[encoded data removed]",
      "text/plain": [
       "<Figure size 432x288 with 1 Axes>"
      ]
     },
     "metadata": {
      "needs_background": "light"
     },
     "output_type": "display_data"
    }
   ],
   "source": [
    "sns.histplot(data = chinstrap_data,x = \"Body Mass (g)\", kde = True)"
   ]
  },
  {
   "cell_type": "markdown",
   "metadata": {},
   "source": [
    "# Chinstrap scatterplots"
   ]
  },
  {
   "cell_type": "code",
   "execution_count": 13,
   "metadata": {},
   "outputs": [
    {
     "data": {
      "text/plain": [
       "<AxesSubplot:xlabel='Flipper Length (mm)', ylabel='Body Mass (g)'>"
      ]
     },
     "execution_count": 13,
     "metadata": {},
     "output_type": "execute_result"
    },
    {
     "data": {
      "image/png": "[encoded data removed]",
      "text/plain": [
       "<Figure size 432x288 with 1 Axes>"
      ]
     },
     "metadata": {
      "needs_background": "light"
     },
     "output_type": "display_data"
    }
   ],
   "source": [
    "sns.scatterplot(data= chinstrap_data, x=\"Flipper Length (mm)\", y=\"Body Mass (g)\")\n"
   ]
  },
  {
   "cell_type": "code",
   "execution_count": 14,
   "metadata": {},
   "outputs": [
    {
     "data": {
      "text/plain": [
       "<AxesSubplot:xlabel='Culmen Length (mm)', ylabel='Body Mass (g)'>"
      ]
     },
     "execution_count": 14,
     "metadata": {},
     "output_type": "execute_result"
    },
    {
     "data": {
      "image/png": "[encoded data removed]",
      "text/plain": [
       "<Figure size 432x288 with 1 Axes>"
      ]
     },
     "metadata": {
      "needs_background": "light"
     },
     "output_type": "display_data"
    }
   ],
   "source": [
    "sns.scatterplot(data= chinstrap_data, x=\"Culmen Length (mm)\", y=\"Body Mass (g)\")"
   ]
  },
  {
   "cell_type": "code",
   "execution_count": 15,
   "metadata": {},
   "outputs": [
    {
     "data": {
      "text/plain": [
       "<AxesSubplot:xlabel='Culmen Depth (mm)', ylabel='Body Mass (g)'>"
      ]
     },
     "execution_count": 15,
     "metadata": {},
     "output_type": "execute_result"
    },
    {
     "data": {
      "image/png": "[encoded data removed]",
      "text/plain": [
       "<Figure size 432x288 with 1 Axes>"
      ]
     },
     "metadata": {
      "needs_background": "light"
     },
     "output_type": "display_data"
    }
   ],
   "source": [
    "sns.scatterplot(data= chinstrap_data, x=\"Culmen Depth (mm)\", y=\"Body Mass (g)\")"
   ]
  },
  {
   "cell_type": "code",
   "execution_count": 16,
   "metadata": {},
   "outputs": [
    {
     "data": {
      "text/html": [
       "<div>\n",
       "<style scoped>\n",
       "    .dataframe tbody tr th:only-of-type {\n",
       "        vertical-align: middle;\n",
       "    }\n",
       "\n",
       "    .dataframe tbody tr th {\n",
       "        vertical-align: top;\n",
       "    }\n",
       "\n",
       "    .dataframe thead th {\n",
       "        text-align: right;\n",
       "    }\n",
       "</style>\n",
       "<table border=\"1\" class=\"dataframe\">\n",
       "  <thead>\n",
       "    <tr style=\"text-align: right;\">\n",
       "      <th></th>\n",
       "      <th>Culmen Length (mm)</th>\n",
       "      <th>Culmen Depth (mm)</th>\n",
       "      <th>Flipper Length (mm)</th>\n",
       "      <th>Body Mass (g)</th>\n",
       "    </tr>\n",
       "  </thead>\n",
       "  <tbody>\n",
       "    <tr>\n",
       "      <th>Culmen Length (mm)</th>\n",
       "      <td>1.00</td>\n",
       "      <td>0.65</td>\n",
       "      <td>0.47</td>\n",
       "      <td>0.51</td>\n",
       "    </tr>\n",
       "    <tr>\n",
       "      <th>Culmen Depth (mm)</th>\n",
       "      <td>0.65</td>\n",
       "      <td>1.00</td>\n",
       "      <td>0.58</td>\n",
       "      <td>0.60</td>\n",
       "    </tr>\n",
       "    <tr>\n",
       "      <th>Flipper Length (mm)</th>\n",
       "      <td>0.47</td>\n",
       "      <td>0.58</td>\n",
       "      <td>1.00</td>\n",
       "      <td>0.64</td>\n",
       "    </tr>\n",
       "    <tr>\n",
       "      <th>Body Mass (g)</th>\n",
       "      <td>0.51</td>\n",
       "      <td>0.60</td>\n",
       "      <td>0.64</td>\n",
       "      <td>1.00</td>\n",
       "    </tr>\n",
       "  </tbody>\n",
       "</table>\n",
       "</div>"
      ],
      "text/plain": [
       "                     Culmen Length (mm)  Culmen Depth (mm)  \\\n",
       "Culmen Length (mm)                 1.00               0.65   \n",
       "Culmen Depth (mm)                  0.65               1.00   \n",
       "Flipper Length (mm)                0.47               0.58   \n",
       "Body Mass (g)                      0.51               0.60   \n",
       "\n",
       "                     Flipper Length (mm)  Body Mass (g)  \n",
       "Culmen Length (mm)                  0.47           0.51  \n",
       "Culmen Depth (mm)                   0.58           0.60  \n",
       "Flipper Length (mm)                 1.00           0.64  \n",
       "Body Mass (g)                       0.64           1.00  "
      ]
     },
     "execution_count": 16,
     "metadata": {},
     "output_type": "execute_result"
    }
   ],
   "source": [
    "chinstrap_data.corr()"
   ]
  },
  {
   "cell_type": "markdown",
   "metadata": {},
   "source": [
    "# Adelie Scatterplots"
   ]
  },
  {
   "cell_type": "code",
   "execution_count": 17,
   "metadata": {},
   "outputs": [
    {
     "data": {
      "text/plain": [
       "<AxesSubplot:xlabel='Flipper Length (mm)', ylabel='Body Mass (g)'>"
      ]
     },
     "execution_count": 17,
     "metadata": {},
     "output_type": "execute_result"
    },
    {
     "data": {
      "image/png": "[encoded data removed]",
      "text/plain": [
       "<Figure size 432x288 with 1 Axes>"
      ]
     },
     "metadata": {
      "needs_background": "light"
     },
     "output_type": "display_data"
    }
   ],
   "source": [
    "sns.scatterplot(data= adelie_data, x=\"Flipper Length (mm)\", y=\"Body Mass (g)\")"
   ]
  },
  {
   "cell_type": "code",
   "execution_count": 18,
   "metadata": {},
   "outputs": [
    {
     "data": {
      "text/plain": [
       "<AxesSubplot:xlabel='Culmen Length (mm)', ylabel='Body Mass (g)'>"
      ]
     },
     "execution_count": 18,
     "metadata": {},
     "output_type": "execute_result"
    },
    {
     "data": {
      "image/png": "[encoded data removed]",
      "text/plain": [
       "<Figure size 432x288 with 1 Axes>"
      ]
     },
     "metadata": {
      "needs_background": "light"
     },
     "output_type": "display_data"
    }
   ],
   "source": [
    "sns.scatterplot(data= adelie_data, x=\"Culmen Length (mm)\", y=\"Body Mass (g)\")"
   ]
  },
  {
   "cell_type": "code",
   "execution_count": 19,
   "metadata": {},
   "outputs": [
    {
     "data": {
      "text/plain": [
       "<AxesSubplot:xlabel='Culmen Depth (mm)', ylabel='Body Mass (g)'>"
      ]
     },
     "execution_count": 19,
     "metadata": {},
     "output_type": "execute_result"
    },
    {
     "data": {
      "image/png": "[encoded data removed]",
      "text/plain": [
       "<Figure size 432x288 with 1 Axes>"
      ]
     },
     "metadata": {
      "needs_background": "light"
     },
     "output_type": "display_data"
    }
   ],
   "source": [
    "sns.scatterplot(data= adelie_data, x=\"Culmen Depth (mm)\", y=\"Body Mass (g)\")"
   ]
  },
  {
   "cell_type": "code",
   "execution_count": 20,
   "metadata": {},
   "outputs": [
    {
     "data": {
      "text/html": [
       "<div>\n",
       "<style scoped>\n",
       "    .dataframe tbody tr th:only-of-type {\n",
       "        vertical-align: middle;\n",
       "    }\n",
       "\n",
       "    .dataframe tbody tr th {\n",
       "        vertical-align: top;\n",
       "    }\n",
       "\n",
       "    .dataframe thead th {\n",
       "        text-align: right;\n",
       "    }\n",
       "</style>\n",
       "<table border=\"1\" class=\"dataframe\">\n",
       "  <thead>\n",
       "    <tr style=\"text-align: right;\">\n",
       "      <th></th>\n",
       "      <th>Culmen Length (mm)</th>\n",
       "      <th>Culmen Depth (mm)</th>\n",
       "      <th>Flipper Length (mm)</th>\n",
       "      <th>Body Mass (g)</th>\n",
       "    </tr>\n",
       "  </thead>\n",
       "  <tbody>\n",
       "    <tr>\n",
       "      <th>Culmen Length (mm)</th>\n",
       "      <td>1.00</td>\n",
       "      <td>0.39</td>\n",
       "      <td>0.33</td>\n",
       "      <td>0.55</td>\n",
       "    </tr>\n",
       "    <tr>\n",
       "      <th>Culmen Depth (mm)</th>\n",
       "      <td>0.39</td>\n",
       "      <td>1.00</td>\n",
       "      <td>0.31</td>\n",
       "      <td>0.58</td>\n",
       "    </tr>\n",
       "    <tr>\n",
       "      <th>Flipper Length (mm)</th>\n",
       "      <td>0.33</td>\n",
       "      <td>0.31</td>\n",
       "      <td>1.00</td>\n",
       "      <td>0.47</td>\n",
       "    </tr>\n",
       "    <tr>\n",
       "      <th>Body Mass (g)</th>\n",
       "      <td>0.55</td>\n",
       "      <td>0.58</td>\n",
       "      <td>0.47</td>\n",
       "      <td>1.00</td>\n",
       "    </tr>\n",
       "  </tbody>\n",
       "</table>\n",
       "</div>"
      ],
      "text/plain": [
       "                     Culmen Length (mm)  Culmen Depth (mm)  \\\n",
       "Culmen Length (mm)                 1.00               0.39   \n",
       "Culmen Depth (mm)                  0.39               1.00   \n",
       "Flipper Length (mm)                0.33               0.31   \n",
       "Body Mass (g)                      0.55               0.58   \n",
       "\n",
       "                     Flipper Length (mm)  Body Mass (g)  \n",
       "Culmen Length (mm)                  0.33           0.55  \n",
       "Culmen Depth (mm)                   0.31           0.58  \n",
       "Flipper Length (mm)                 1.00           0.47  \n",
       "Body Mass (g)                       0.47           1.00  "
      ]
     },
     "execution_count": 20,
     "metadata": {},
     "output_type": "execute_result"
    }
   ],
   "source": [
    "adelie_data.corr()"
   ]
  },
  {
   "cell_type": "markdown",
   "metadata": {},
   "source": [
    "# Gentoo Scatterplots"
   ]
  },
  {
   "cell_type": "code",
   "execution_count": 21,
   "metadata": {},
   "outputs": [
    {
     "data": {
      "text/plain": [
       "<AxesSubplot:xlabel='Flipper Length (mm)', ylabel='Body Mass (g)'>"
      ]
     },
     "execution_count": 21,
     "metadata": {},
     "output_type": "execute_result"
    },
    {
     "data": {
      "image/png": "[encoded data removed]",
      "text/plain": [
       "<Figure size 432x288 with 1 Axes>"
      ]
     },
     "metadata": {
      "needs_background": "light"
     },
     "output_type": "display_data"
    }
   ],
   "source": [
    "sns.scatterplot(data= gentoo_data, x=\"Flipper Length (mm)\", y=\"Body Mass (g)\")"
   ]
  },
  {
   "cell_type": "code",
   "execution_count": 22,
   "metadata": {},
   "outputs": [
    {
     "data": {
      "text/plain": [
       "<AxesSubplot:xlabel='Culmen Length (mm)', ylabel='Body Mass (g)'>"
      ]
     },
     "execution_count": 22,
     "metadata": {},
     "output_type": "execute_result"
    },
    {
     "data": {
      "image/png": "[encoded data removed]",
      "text/plain": [
       "<Figure size 432x288 with 1 Axes>"
      ]
     },
     "metadata": {
      "needs_background": "light"
     },
     "output_type": "display_data"
    }
   ],
   "source": [
    "sns.scatterplot(data= gentoo_data, x=\"Culmen Length (mm)\", y=\"Body Mass (g)\")"
   ]
  },
  {
   "cell_type": "code",
   "execution_count": 23,
   "metadata": {},
   "outputs": [
    {
     "data": {
      "text/plain": [
       "<AxesSubplot:xlabel='Culmen Depth (mm)', ylabel='Body Mass (g)'>"
      ]
     },
     "execution_count": 23,
     "metadata": {},
     "output_type": "execute_result"
    },
    {
     "data": {
      "image/png": "[encoded data removed]",
      "text/plain": [
       "<Figure size 432x288 with 1 Axes>"
      ]
     },
     "metadata": {
      "needs_background": "light"
     },
     "output_type": "display_data"
    }
   ],
   "source": [
    "sns.scatterplot(data= gentoo_data, x=\"Culmen Depth (mm)\", y=\"Body Mass (g)\")"
   ]
  },
  {
   "cell_type": "code",
   "execution_count": 24,
   "metadata": {},
   "outputs": [
    {
     "data": {
      "text/html": [
       "<div>\n",
       "<style scoped>\n",
       "    .dataframe tbody tr th:only-of-type {\n",
       "        vertical-align: middle;\n",
       "    }\n",
       "\n",
       "    .dataframe tbody tr th {\n",
       "        vertical-align: top;\n",
       "    }\n",
       "\n",
       "    .dataframe thead th {\n",
       "        text-align: right;\n",
       "    }\n",
       "</style>\n",
       "<table border=\"1\" class=\"dataframe\">\n",
       "  <thead>\n",
       "    <tr style=\"text-align: right;\">\n",
       "      <th></th>\n",
       "      <th>Culmen Length (mm)</th>\n",
       "      <th>Culmen Depth (mm)</th>\n",
       "      <th>Flipper Length (mm)</th>\n",
       "      <th>Body Mass (g)</th>\n",
       "    </tr>\n",
       "  </thead>\n",
       "  <tbody>\n",
       "    <tr>\n",
       "      <th>Culmen Length (mm)</th>\n",
       "      <td>1.00</td>\n",
       "      <td>0.64</td>\n",
       "      <td>0.66</td>\n",
       "      <td>0.67</td>\n",
       "    </tr>\n",
       "    <tr>\n",
       "      <th>Culmen Depth (mm)</th>\n",
       "      <td>0.64</td>\n",
       "      <td>1.00</td>\n",
       "      <td>0.71</td>\n",
       "      <td>0.72</td>\n",
       "    </tr>\n",
       "    <tr>\n",
       "      <th>Flipper Length (mm)</th>\n",
       "      <td>0.66</td>\n",
       "      <td>0.71</td>\n",
       "      <td>1.00</td>\n",
       "      <td>0.70</td>\n",
       "    </tr>\n",
       "    <tr>\n",
       "      <th>Body Mass (g)</th>\n",
       "      <td>0.67</td>\n",
       "      <td>0.72</td>\n",
       "      <td>0.70</td>\n",
       "      <td>1.00</td>\n",
       "    </tr>\n",
       "  </tbody>\n",
       "</table>\n",
       "</div>"
      ],
      "text/plain": [
       "                     Culmen Length (mm)  Culmen Depth (mm)  \\\n",
       "Culmen Length (mm)                 1.00               0.64   \n",
       "Culmen Depth (mm)                  0.64               1.00   \n",
       "Flipper Length (mm)                0.66               0.71   \n",
       "Body Mass (g)                      0.67               0.72   \n",
       "\n",
       "                     Flipper Length (mm)  Body Mass (g)  \n",
       "Culmen Length (mm)                  0.66           0.67  \n",
       "Culmen Depth (mm)                   0.71           0.72  \n",
       "Flipper Length (mm)                 1.00           0.70  \n",
       "Body Mass (g)                       0.70           1.00  "
      ]
     },
     "execution_count": 24,
     "metadata": {},
     "output_type": "execute_result"
    }
   ],
   "source": [
    "gentoo_data.corr()"
   ]
  },
  {
   "cell_type": "markdown",
   "metadata": {},
   "source": [
    "Having investigated the correlation between body mass and the other 3 variables of each of the species the only one that has a strong relationship is the Gentoo Species. Therefore we will continue our investigations using just this species as the body mass is a good predictor of the other variables. \n",
    "\n",
    "Taking a closer look at the Gentoo species and the relationship with the sex of the bird, we can see on average the body mass for the male is 5484.84 grams and the female is 4679.74 grams."
   ]
  },
  {
   "cell_type": "code",
   "execution_count": 25,
   "metadata": {},
   "outputs": [],
   "source": [
    "gentoo_female = gentoo_data.loc [gentoo_data [\"Sex\"] == \"FEMALE\"]\n",
    "gentoo_male = gentoo_data.loc [gentoo_data [\"Sex\"] == \"MALE\"]"
   ]
  },
  {
   "cell_type": "code",
   "execution_count": 26,
   "metadata": {},
   "outputs": [
    {
     "data": {
      "text/html": [
       "<div>\n",
       "<style scoped>\n",
       "    .dataframe tbody tr th:only-of-type {\n",
       "        vertical-align: middle;\n",
       "    }\n",
       "\n",
       "    .dataframe tbody tr th {\n",
       "        vertical-align: top;\n",
       "    }\n",
       "\n",
       "    .dataframe thead th {\n",
       "        text-align: right;\n",
       "    }\n",
       "</style>\n",
       "<table border=\"1\" class=\"dataframe\">\n",
       "  <thead>\n",
       "    <tr style=\"text-align: right;\">\n",
       "      <th></th>\n",
       "      <th>Culmen Length (mm)</th>\n",
       "      <th>Culmen Depth (mm)</th>\n",
       "      <th>Flipper Length (mm)</th>\n",
       "      <th>Body Mass (g)</th>\n",
       "    </tr>\n",
       "  </thead>\n",
       "  <tbody>\n",
       "    <tr>\n",
       "      <th>count</th>\n",
       "      <td>58.00</td>\n",
       "      <td>58.00</td>\n",
       "      <td>58.00</td>\n",
       "      <td>58.00</td>\n",
       "    </tr>\n",
       "    <tr>\n",
       "      <th>mean</th>\n",
       "      <td>45.56</td>\n",
       "      <td>14.24</td>\n",
       "      <td>212.71</td>\n",
       "      <td>4679.74</td>\n",
       "    </tr>\n",
       "    <tr>\n",
       "      <th>std</th>\n",
       "      <td>2.05</td>\n",
       "      <td>0.54</td>\n",
       "      <td>3.90</td>\n",
       "      <td>281.58</td>\n",
       "    </tr>\n",
       "    <tr>\n",
       "      <th>min</th>\n",
       "      <td>40.90</td>\n",
       "      <td>13.10</td>\n",
       "      <td>203.00</td>\n",
       "      <td>3950.00</td>\n",
       "    </tr>\n",
       "    <tr>\n",
       "      <th>25%</th>\n",
       "      <td>43.85</td>\n",
       "      <td>13.80</td>\n",
       "      <td>210.00</td>\n",
       "      <td>4462.50</td>\n",
       "    </tr>\n",
       "    <tr>\n",
       "      <th>50%</th>\n",
       "      <td>45.50</td>\n",
       "      <td>14.25</td>\n",
       "      <td>212.00</td>\n",
       "      <td>4700.00</td>\n",
       "    </tr>\n",
       "    <tr>\n",
       "      <th>75%</th>\n",
       "      <td>46.88</td>\n",
       "      <td>14.60</td>\n",
       "      <td>215.00</td>\n",
       "      <td>4875.00</td>\n",
       "    </tr>\n",
       "    <tr>\n",
       "      <th>max</th>\n",
       "      <td>50.50</td>\n",
       "      <td>15.50</td>\n",
       "      <td>222.00</td>\n",
       "      <td>5200.00</td>\n",
       "    </tr>\n",
       "  </tbody>\n",
       "</table>\n",
       "</div>"
      ],
      "text/plain": [
       "       Culmen Length (mm)  Culmen Depth (mm)  Flipper Length (mm)  \\\n",
       "count               58.00              58.00                58.00   \n",
       "mean                45.56              14.24               212.71   \n",
       "std                  2.05               0.54                 3.90   \n",
       "min                 40.90              13.10               203.00   \n",
       "25%                 43.85              13.80               210.00   \n",
       "50%                 45.50              14.25               212.00   \n",
       "75%                 46.88              14.60               215.00   \n",
       "max                 50.50              15.50               222.00   \n",
       "\n",
       "       Body Mass (g)  \n",
       "count          58.00  \n",
       "mean         4679.74  \n",
       "std           281.58  \n",
       "min          3950.00  \n",
       "25%          4462.50  \n",
       "50%          4700.00  \n",
       "75%          4875.00  \n",
       "max          5200.00  "
      ]
     },
     "execution_count": 26,
     "metadata": {},
     "output_type": "execute_result"
    }
   ],
   "source": [
    "gentoo_female.describe()"
   ]
  },
  {
   "cell_type": "code",
   "execution_count": 27,
   "metadata": {},
   "outputs": [
    {
     "data": {
      "text/html": [
       "<div>\n",
       "<style scoped>\n",
       "    .dataframe tbody tr th:only-of-type {\n",
       "        vertical-align: middle;\n",
       "    }\n",
       "\n",
       "    .dataframe tbody tr th {\n",
       "        vertical-align: top;\n",
       "    }\n",
       "\n",
       "    .dataframe thead th {\n",
       "        text-align: right;\n",
       "    }\n",
       "</style>\n",
       "<table border=\"1\" class=\"dataframe\">\n",
       "  <thead>\n",
       "    <tr style=\"text-align: right;\">\n",
       "      <th></th>\n",
       "      <th>Culmen Length (mm)</th>\n",
       "      <th>Culmen Depth (mm)</th>\n",
       "      <th>Flipper Length (mm)</th>\n",
       "      <th>Body Mass (g)</th>\n",
       "    </tr>\n",
       "  </thead>\n",
       "  <tbody>\n",
       "    <tr>\n",
       "      <th>count</th>\n",
       "      <td>61.00</td>\n",
       "      <td>61.00</td>\n",
       "      <td>61.00</td>\n",
       "      <td>61.00</td>\n",
       "    </tr>\n",
       "    <tr>\n",
       "      <th>mean</th>\n",
       "      <td>49.47</td>\n",
       "      <td>15.72</td>\n",
       "      <td>221.54</td>\n",
       "      <td>5484.84</td>\n",
       "    </tr>\n",
       "    <tr>\n",
       "      <th>std</th>\n",
       "      <td>2.72</td>\n",
       "      <td>0.74</td>\n",
       "      <td>5.67</td>\n",
       "      <td>313.16</td>\n",
       "    </tr>\n",
       "    <tr>\n",
       "      <th>min</th>\n",
       "      <td>44.40</td>\n",
       "      <td>14.10</td>\n",
       "      <td>208.00</td>\n",
       "      <td>4750.00</td>\n",
       "    </tr>\n",
       "    <tr>\n",
       "      <th>25%</th>\n",
       "      <td>48.10</td>\n",
       "      <td>15.20</td>\n",
       "      <td>218.00</td>\n",
       "      <td>5300.00</td>\n",
       "    </tr>\n",
       "    <tr>\n",
       "      <th>50%</th>\n",
       "      <td>49.50</td>\n",
       "      <td>15.70</td>\n",
       "      <td>221.00</td>\n",
       "      <td>5500.00</td>\n",
       "    </tr>\n",
       "    <tr>\n",
       "      <th>75%</th>\n",
       "      <td>50.50</td>\n",
       "      <td>16.10</td>\n",
       "      <td>225.00</td>\n",
       "      <td>5700.00</td>\n",
       "    </tr>\n",
       "    <tr>\n",
       "      <th>max</th>\n",
       "      <td>59.60</td>\n",
       "      <td>17.30</td>\n",
       "      <td>231.00</td>\n",
       "      <td>6300.00</td>\n",
       "    </tr>\n",
       "  </tbody>\n",
       "</table>\n",
       "</div>"
      ],
      "text/plain": [
       "       Culmen Length (mm)  Culmen Depth (mm)  Flipper Length (mm)  \\\n",
       "count               61.00              61.00                61.00   \n",
       "mean                49.47              15.72               221.54   \n",
       "std                  2.72               0.74                 5.67   \n",
       "min                 44.40              14.10               208.00   \n",
       "25%                 48.10              15.20               218.00   \n",
       "50%                 49.50              15.70               221.00   \n",
       "75%                 50.50              16.10               225.00   \n",
       "max                 59.60              17.30               231.00   \n",
       "\n",
       "       Body Mass (g)  \n",
       "count          61.00  \n",
       "mean         5484.84  \n",
       "std           313.16  \n",
       "min          4750.00  \n",
       "25%          5300.00  \n",
       "50%          5500.00  \n",
       "75%          5700.00  \n",
       "max          6300.00  "
      ]
     },
     "execution_count": 27,
     "metadata": {},
     "output_type": "execute_result"
    }
   ],
   "source": [
    "gentoo_male.describe()"
   ]
  },
  {
   "cell_type": "markdown",
   "metadata": {},
   "source": [
    "# Graphical display"
   ]
  },
  {
   "cell_type": "code",
   "execution_count": 28,
   "metadata": {},
   "outputs": [
    {
     "data": {
      "text/plain": [
       "<AxesSubplot:xlabel='Body Mass (g)', ylabel='Count'>"
      ]
     },
     "execution_count": 28,
     "metadata": {},
     "output_type": "execute_result"
    },
    {
     "data": {
      "image/png": "[encoded data removed]",
      "text/plain": [
       "<Figure size 432x288 with 1 Axes>"
      ]
     },
     "metadata": {
      "needs_background": "light"
     },
     "output_type": "display_data"
    }
   ],
   "source": [
    "sns.histplot(data= gentoo_data, x = \"Body Mass (g)\", hue = \"Sex\", bins = 15)"
   ]
  },
  {
   "cell_type": "code",
   "execution_count": 29,
   "metadata": {},
   "outputs": [
    {
     "data": {
      "text/plain": [
       "<AxesSubplot:xlabel='Body Mass (g)', ylabel='Count'>"
      ]
     },
     "execution_count": 29,
     "metadata": {},
     "output_type": "execute_result"
    },
    {
     "data": {
      "image/png": "[encoded data removed]",
      "text/plain": [
       "<Figure size 432x288 with 1 Axes>"
      ]
     },
     "metadata": {
      "needs_background": "light"
     },
     "output_type": "display_data"
    }
   ],
   "source": [
    "sns.histplot(data= gentoo_female, x = \"Body Mass (g)\")"
   ]
  },
  {
   "cell_type": "code",
   "execution_count": 30,
   "metadata": {},
   "outputs": [
    {
     "data": {
      "text/plain": [
       "<AxesSubplot:xlabel='Body Mass (g)', ylabel='Count'>"
      ]
     },
     "execution_count": 30,
     "metadata": {},
     "output_type": "execute_result"
    },
    {
     "data": {
      "image/png": "[encoded data removed]",
      "text/plain": [
       "<Figure size 432x288 with 1 Axes>"
      ]
     },
     "metadata": {
      "needs_background": "light"
     },
     "output_type": "display_data"
    }
   ],
   "source": [
    "sns.histplot(data= gentoo_male, x = \"Body Mass (g)\")"
   ]
  },
  {
   "cell_type": "markdown",
   "metadata": {},
   "source": [
    "# REFERENCES\n",
    "\n",
    "-https://towardsdatascience.com/data-analysis-in-python-getting-started-with-pandas-8cbcc1500c83"
   ]
  },
  {
   "cell_type": "code",
   "execution_count": null,
   "metadata": {},
   "outputs": [],
   "source": []
  }
 ],
 "metadata": {
  "kernelspec": {
   "display_name": "Python 3",
   "language": "python",
   "name": "python3"
  },
  "language_info": {
   "codemirror_mode": {
    "name": "ipython",
    "version": 3
   },
   "file_extension": ".py",
   "mimetype": "text/x-python",
   "name": "python",
   "nbconvert_exporter": "python",
   "pygments_lexer": "ipython3",
   "version": "3.8.5"
  }
 },
 "nbformat": 4,
 "nbformat_minor": 4
}
