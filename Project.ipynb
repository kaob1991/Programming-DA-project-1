{
 "cells": [
  {
   "cell_type": "markdown",
   "metadata": {},
   "source": [
    "For this project you must create a data set by simulating a real-world phenomenon of\n",
    "your choosing.\n",
    "you should model and synthesise such data using Python.\n",
    "We suggest you use the numpy.random package for this purpose.\n",
    "Specifically, in this project you should:\n",
    "• Choose a real-world phenomenon that can be measured and for which you could\n",
    "collect at least one-hundred data points across at least four different variables.\n",
    "• Investigate the types of variables involved, their likely distributions, and their\n",
    "relationships with each other.\n",
    "• Synthesise/simulate a data set as closely matching their properties as possible.\n",
    "• Detail your research and implement the simulation in a Jupyter notebook – the\n",
    "data set itself can simply be displayed in an output cell within the notebook."
   ]
  },
  {
   "cell_type": "code",
   "execution_count": 1,
   "metadata": {},
   "outputs": [],
   "source": [
    "#Requisite libraries and setings for analysis\n",
    "\n",
    "import pandas as pd\n",
    "\n",
    "import numpy as np\n",
    "\n",
    "import matplotlib.pyplot as plt\n",
    "\n",
    "import statistics as stat\n",
    "\n",
    "import seaborn as sns\n",
    "\n",
    "from fitter import Fitter \n",
    "\n",
    "\n",
    "pd.set_option('display.float_format', lambda x: '%.2f' % x)"
   ]
  },
  {
   "cell_type": "markdown",
   "metadata": {},
   "source": [
    "# Intro \n",
    "\n",
    "For this project I will be investigating the relationship that a number of variables have to a penguins weight. This is inspired by the dataset in increasingly greater use in data analytics called the ```palmer penguin``` dataset. This dataset is been touted as a replacement for the Fisher's Iris as a more ethical version to use. [1] Because of Fisher's links to eugenics, some analysts and computer scientists are uncomforable using this set. \n",
    "\n",
    "The ```palmer penguins``` are collected and published by [Dr.Kristen Gorman](https://www.uaf.edu/cfos/people/faculty/detail/kristen-gorman.php) and [Allison Horst](https://www.allisonhorst.com). The data in this set is collected from the Palmer Archipelago in Antartica and covers a large number of variables, which we will briefly look at below. The dataset is used under the CC-0 licence. \n",
    "\n",
    "\n",
    "[1]: https://towardsdatascience.com/data-analysis-in-python-getting-started-with-pandas-8cbcc1500c83"
   ]
  },
  {
   "cell_type": "code",
   "execution_count": 2,
   "metadata": {},
   "outputs": [],
   "source": [
    "penguins = pd.read_csv(\"https://raw.githubusercontent.com/kaob1991/Programming-project/main/penguins_lter.csv\")"
   ]
  },
  {
   "cell_type": "code",
   "execution_count": 3,
   "metadata": {},
   "outputs": [
    {
     "data": {
      "text/html": [
       "<div>\n",
       "<style scoped>\n",
       "    .dataframe tbody tr th:only-of-type {\n",
       "        vertical-align: middle;\n",
       "    }\n",
       "\n",
       "    .dataframe tbody tr th {\n",
       "        vertical-align: top;\n",
       "    }\n",
       "\n",
       "    .dataframe thead th {\n",
       "        text-align: right;\n",
       "    }\n",
       "</style>\n",
       "<table border=\"1\" class=\"dataframe\">\n",
       "  <thead>\n",
       "    <tr style=\"text-align: right;\">\n",
       "      <th></th>\n",
       "      <th>studyName</th>\n",
       "      <th>Sample Number</th>\n",
       "      <th>Species</th>\n",
       "      <th>Region</th>\n",
       "      <th>Island</th>\n",
       "      <th>Stage</th>\n",
       "      <th>Individual ID</th>\n",
       "      <th>Clutch Completion</th>\n",
       "      <th>Date Egg</th>\n",
       "      <th>Culmen Length (mm)</th>\n",
       "      <th>Culmen Depth (mm)</th>\n",
       "      <th>Flipper Length (mm)</th>\n",
       "      <th>Body Mass (g)</th>\n",
       "      <th>Sex</th>\n",
       "      <th>Delta 15 N (o/oo)</th>\n",
       "      <th>Delta 13 C (o/oo)</th>\n",
       "      <th>Comments</th>\n",
       "    </tr>\n",
       "  </thead>\n",
       "  <tbody>\n",
       "    <tr>\n",
       "      <th>0</th>\n",
       "      <td>PAL0708</td>\n",
       "      <td>1</td>\n",
       "      <td>Adelie Penguin (Pygoscelis adeliae)</td>\n",
       "      <td>Anvers</td>\n",
       "      <td>Torgersen</td>\n",
       "      <td>Adult, 1 Egg Stage</td>\n",
       "      <td>N1A1</td>\n",
       "      <td>Yes</td>\n",
       "      <td>11/11/07</td>\n",
       "      <td>39.10</td>\n",
       "      <td>18.70</td>\n",
       "      <td>181.00</td>\n",
       "      <td>3750.00</td>\n",
       "      <td>MALE</td>\n",
       "      <td>nan</td>\n",
       "      <td>nan</td>\n",
       "      <td>Not enough blood for isotopes.</td>\n",
       "    </tr>\n",
       "    <tr>\n",
       "      <th>1</th>\n",
       "      <td>PAL0708</td>\n",
       "      <td>2</td>\n",
       "      <td>Adelie Penguin (Pygoscelis adeliae)</td>\n",
       "      <td>Anvers</td>\n",
       "      <td>Torgersen</td>\n",
       "      <td>Adult, 1 Egg Stage</td>\n",
       "      <td>N1A2</td>\n",
       "      <td>Yes</td>\n",
       "      <td>11/11/07</td>\n",
       "      <td>39.50</td>\n",
       "      <td>17.40</td>\n",
       "      <td>186.00</td>\n",
       "      <td>3800.00</td>\n",
       "      <td>FEMALE</td>\n",
       "      <td>8.95</td>\n",
       "      <td>-24.69</td>\n",
       "      <td>NaN</td>\n",
       "    </tr>\n",
       "    <tr>\n",
       "      <th>2</th>\n",
       "      <td>PAL0708</td>\n",
       "      <td>3</td>\n",
       "      <td>Adelie Penguin (Pygoscelis adeliae)</td>\n",
       "      <td>Anvers</td>\n",
       "      <td>Torgersen</td>\n",
       "      <td>Adult, 1 Egg Stage</td>\n",
       "      <td>N2A1</td>\n",
       "      <td>Yes</td>\n",
       "      <td>11/16/07</td>\n",
       "      <td>40.30</td>\n",
       "      <td>18.00</td>\n",
       "      <td>195.00</td>\n",
       "      <td>3250.00</td>\n",
       "      <td>FEMALE</td>\n",
       "      <td>8.37</td>\n",
       "      <td>-25.33</td>\n",
       "      <td>NaN</td>\n",
       "    </tr>\n",
       "    <tr>\n",
       "      <th>3</th>\n",
       "      <td>PAL0708</td>\n",
       "      <td>4</td>\n",
       "      <td>Adelie Penguin (Pygoscelis adeliae)</td>\n",
       "      <td>Anvers</td>\n",
       "      <td>Torgersen</td>\n",
       "      <td>Adult, 1 Egg Stage</td>\n",
       "      <td>N2A2</td>\n",
       "      <td>Yes</td>\n",
       "      <td>11/16/07</td>\n",
       "      <td>nan</td>\n",
       "      <td>nan</td>\n",
       "      <td>nan</td>\n",
       "      <td>nan</td>\n",
       "      <td>NaN</td>\n",
       "      <td>nan</td>\n",
       "      <td>nan</td>\n",
       "      <td>Adult not sampled.</td>\n",
       "    </tr>\n",
       "    <tr>\n",
       "      <th>4</th>\n",
       "      <td>PAL0708</td>\n",
       "      <td>5</td>\n",
       "      <td>Adelie Penguin (Pygoscelis adeliae)</td>\n",
       "      <td>Anvers</td>\n",
       "      <td>Torgersen</td>\n",
       "      <td>Adult, 1 Egg Stage</td>\n",
       "      <td>N3A1</td>\n",
       "      <td>Yes</td>\n",
       "      <td>11/16/07</td>\n",
       "      <td>36.70</td>\n",
       "      <td>19.30</td>\n",
       "      <td>193.00</td>\n",
       "      <td>3450.00</td>\n",
       "      <td>FEMALE</td>\n",
       "      <td>8.77</td>\n",
       "      <td>-25.32</td>\n",
       "      <td>NaN</td>\n",
       "    </tr>\n",
       "  </tbody>\n",
       "</table>\n",
       "</div>"
      ],
      "text/plain": [
       "  studyName  Sample Number                              Species  Region  \\\n",
       "0   PAL0708              1  Adelie Penguin (Pygoscelis adeliae)  Anvers   \n",
       "1   PAL0708              2  Adelie Penguin (Pygoscelis adeliae)  Anvers   \n",
       "2   PAL0708              3  Adelie Penguin (Pygoscelis adeliae)  Anvers   \n",
       "3   PAL0708              4  Adelie Penguin (Pygoscelis adeliae)  Anvers   \n",
       "4   PAL0708              5  Adelie Penguin (Pygoscelis adeliae)  Anvers   \n",
       "\n",
       "      Island               Stage Individual ID Clutch Completion  Date Egg  \\\n",
       "0  Torgersen  Adult, 1 Egg Stage          N1A1               Yes  11/11/07   \n",
       "1  Torgersen  Adult, 1 Egg Stage          N1A2               Yes  11/11/07   \n",
       "2  Torgersen  Adult, 1 Egg Stage          N2A1               Yes  11/16/07   \n",
       "3  Torgersen  Adult, 1 Egg Stage          N2A2               Yes  11/16/07   \n",
       "4  Torgersen  Adult, 1 Egg Stage          N3A1               Yes  11/16/07   \n",
       "\n",
       "   Culmen Length (mm)  Culmen Depth (mm)  Flipper Length (mm)  Body Mass (g)  \\\n",
       "0               39.10              18.70               181.00        3750.00   \n",
       "1               39.50              17.40               186.00        3800.00   \n",
       "2               40.30              18.00               195.00        3250.00   \n",
       "3                 nan                nan                  nan            nan   \n",
       "4               36.70              19.30               193.00        3450.00   \n",
       "\n",
       "      Sex  Delta 15 N (o/oo)  Delta 13 C (o/oo)  \\\n",
       "0    MALE                nan                nan   \n",
       "1  FEMALE               8.95             -24.69   \n",
       "2  FEMALE               8.37             -25.33   \n",
       "3     NaN                nan                nan   \n",
       "4  FEMALE               8.77             -25.32   \n",
       "\n",
       "                         Comments  \n",
       "0  Not enough blood for isotopes.  \n",
       "1                             NaN  \n",
       "2                             NaN  \n",
       "3              Adult not sampled.  \n",
       "4                             NaN  "
      ]
     },
     "execution_count": 3,
     "metadata": {},
     "output_type": "execute_result"
    }
   ],
   "source": [
    "penguins.head()"
   ]
  },
  {
   "cell_type": "markdown",
   "metadata": {},
   "source": [
    "To make it easier to compare the variables, especially with correlation later in the project, we are removing some of the variables as these are not pertinent to the investigation. "
   ]
  },
  {
   "cell_type": "code",
   "execution_count": 4,
   "metadata": {},
   "outputs": [
    {
     "data": {
      "text/html": [
       "<div>\n",
       "<style scoped>\n",
       "    .dataframe tbody tr th:only-of-type {\n",
       "        vertical-align: middle;\n",
       "    }\n",
       "\n",
       "    .dataframe tbody tr th {\n",
       "        vertical-align: top;\n",
       "    }\n",
       "\n",
       "    .dataframe thead th {\n",
       "        text-align: right;\n",
       "    }\n",
       "</style>\n",
       "<table border=\"1\" class=\"dataframe\">\n",
       "  <thead>\n",
       "    <tr style=\"text-align: right;\">\n",
       "      <th></th>\n",
       "      <th>Species</th>\n",
       "      <th>Culmen Length (mm)</th>\n",
       "      <th>Culmen Depth (mm)</th>\n",
       "      <th>Flipper Length (mm)</th>\n",
       "      <th>Body Mass (g)</th>\n",
       "      <th>Sex</th>\n",
       "    </tr>\n",
       "  </thead>\n",
       "  <tbody>\n",
       "    <tr>\n",
       "      <th>0</th>\n",
       "      <td>Adelie Penguin (Pygoscelis adeliae)</td>\n",
       "      <td>39.10</td>\n",
       "      <td>18.70</td>\n",
       "      <td>181.00</td>\n",
       "      <td>3750.00</td>\n",
       "      <td>MALE</td>\n",
       "    </tr>\n",
       "    <tr>\n",
       "      <th>1</th>\n",
       "      <td>Adelie Penguin (Pygoscelis adeliae)</td>\n",
       "      <td>39.50</td>\n",
       "      <td>17.40</td>\n",
       "      <td>186.00</td>\n",
       "      <td>3800.00</td>\n",
       "      <td>FEMALE</td>\n",
       "    </tr>\n",
       "    <tr>\n",
       "      <th>2</th>\n",
       "      <td>Adelie Penguin (Pygoscelis adeliae)</td>\n",
       "      <td>40.30</td>\n",
       "      <td>18.00</td>\n",
       "      <td>195.00</td>\n",
       "      <td>3250.00</td>\n",
       "      <td>FEMALE</td>\n",
       "    </tr>\n",
       "    <tr>\n",
       "      <th>3</th>\n",
       "      <td>Adelie Penguin (Pygoscelis adeliae)</td>\n",
       "      <td>nan</td>\n",
       "      <td>nan</td>\n",
       "      <td>nan</td>\n",
       "      <td>nan</td>\n",
       "      <td>NaN</td>\n",
       "    </tr>\n",
       "    <tr>\n",
       "      <th>4</th>\n",
       "      <td>Adelie Penguin (Pygoscelis adeliae)</td>\n",
       "      <td>36.70</td>\n",
       "      <td>19.30</td>\n",
       "      <td>193.00</td>\n",
       "      <td>3450.00</td>\n",
       "      <td>FEMALE</td>\n",
       "    </tr>\n",
       "    <tr>\n",
       "      <th>...</th>\n",
       "      <td>...</td>\n",
       "      <td>...</td>\n",
       "      <td>...</td>\n",
       "      <td>...</td>\n",
       "      <td>...</td>\n",
       "      <td>...</td>\n",
       "    </tr>\n",
       "    <tr>\n",
       "      <th>339</th>\n",
       "      <td>Gentoo penguin (Pygoscelis papua)</td>\n",
       "      <td>nan</td>\n",
       "      <td>nan</td>\n",
       "      <td>nan</td>\n",
       "      <td>nan</td>\n",
       "      <td>NaN</td>\n",
       "    </tr>\n",
       "    <tr>\n",
       "      <th>340</th>\n",
       "      <td>Gentoo penguin (Pygoscelis papua)</td>\n",
       "      <td>46.80</td>\n",
       "      <td>14.30</td>\n",
       "      <td>215.00</td>\n",
       "      <td>4850.00</td>\n",
       "      <td>FEMALE</td>\n",
       "    </tr>\n",
       "    <tr>\n",
       "      <th>341</th>\n",
       "      <td>Gentoo penguin (Pygoscelis papua)</td>\n",
       "      <td>50.40</td>\n",
       "      <td>15.70</td>\n",
       "      <td>222.00</td>\n",
       "      <td>5750.00</td>\n",
       "      <td>MALE</td>\n",
       "    </tr>\n",
       "    <tr>\n",
       "      <th>342</th>\n",
       "      <td>Gentoo penguin (Pygoscelis papua)</td>\n",
       "      <td>45.20</td>\n",
       "      <td>14.80</td>\n",
       "      <td>212.00</td>\n",
       "      <td>5200.00</td>\n",
       "      <td>FEMALE</td>\n",
       "    </tr>\n",
       "    <tr>\n",
       "      <th>343</th>\n",
       "      <td>Gentoo penguin (Pygoscelis papua)</td>\n",
       "      <td>49.90</td>\n",
       "      <td>16.10</td>\n",
       "      <td>213.00</td>\n",
       "      <td>5400.00</td>\n",
       "      <td>MALE</td>\n",
       "    </tr>\n",
       "  </tbody>\n",
       "</table>\n",
       "<p>344 rows × 6 columns</p>\n",
       "</div>"
      ],
      "text/plain": [
       "                                 Species  Culmen Length (mm)  \\\n",
       "0    Adelie Penguin (Pygoscelis adeliae)               39.10   \n",
       "1    Adelie Penguin (Pygoscelis adeliae)               39.50   \n",
       "2    Adelie Penguin (Pygoscelis adeliae)               40.30   \n",
       "3    Adelie Penguin (Pygoscelis adeliae)                 nan   \n",
       "4    Adelie Penguin (Pygoscelis adeliae)               36.70   \n",
       "..                                   ...                 ...   \n",
       "339    Gentoo penguin (Pygoscelis papua)                 nan   \n",
       "340    Gentoo penguin (Pygoscelis papua)               46.80   \n",
       "341    Gentoo penguin (Pygoscelis papua)               50.40   \n",
       "342    Gentoo penguin (Pygoscelis papua)               45.20   \n",
       "343    Gentoo penguin (Pygoscelis papua)               49.90   \n",
       "\n",
       "     Culmen Depth (mm)  Flipper Length (mm)  Body Mass (g)     Sex  \n",
       "0                18.70               181.00        3750.00    MALE  \n",
       "1                17.40               186.00        3800.00  FEMALE  \n",
       "2                18.00               195.00        3250.00  FEMALE  \n",
       "3                  nan                  nan            nan     NaN  \n",
       "4                19.30               193.00        3450.00  FEMALE  \n",
       "..                 ...                  ...            ...     ...  \n",
       "339                nan                  nan            nan     NaN  \n",
       "340              14.30               215.00        4850.00  FEMALE  \n",
       "341              15.70               222.00        5750.00    MALE  \n",
       "342              14.80               212.00        5200.00  FEMALE  \n",
       "343              16.10               213.00        5400.00    MALE  \n",
       "\n",
       "[344 rows x 6 columns]"
      ]
     },
     "execution_count": 4,
     "metadata": {},
     "output_type": "execute_result"
    }
   ],
   "source": [
    "penguins = penguins.drop([\"Sample Number\",\"Delta 15 N (o/oo)\", \"Delta 13 C (o/oo)\",\"studyName\",\"Region\",\"Island\",\"Stage\",\"Individual ID\",\"Clutch Completion\",\"Date Egg\",\"Comments\"], axis = 1)\n",
    "penguins"
   ]
  },
  {
   "cell_type": "markdown",
   "metadata": {},
   "source": [
    "We can see from that data set that it covers a wide range of variables. There is culmen length, depth, flipper length, and sex; as well as the variable we will be investigating, the Body mass in grams.\n",
    "\n",
    "\n",
    "\n",
    "\n",
    "\n",
    "In this data set the max weight of a participant is 6300.0 grams, whereas the minimum is 2700.0 grams. This implies a substantial weight difference of almost twice as big. \n",
    "\n",
    "\n"
   ]
  },
  {
   "cell_type": "code",
   "execution_count": 5,
   "metadata": {},
   "outputs": [
    {
     "data": {
      "text/plain": [
       "2700.0"
      ]
     },
     "execution_count": 5,
     "metadata": {},
     "output_type": "execute_result"
    }
   ],
   "source": [
    "weight = penguins[\"Body Mass (g)\"]\n",
    "min_weight = weight.min()\n",
    "min_weight"
   ]
  },
  {
   "cell_type": "code",
   "execution_count": 6,
   "metadata": {},
   "outputs": [
    {
     "data": {
      "text/plain": [
       "6300.0"
      ]
     },
     "execution_count": 6,
     "metadata": {},
     "output_type": "execute_result"
    }
   ],
   "source": [
    "max_weight = weight. max()\n",
    "max_weight"
   ]
  },
  {
   "cell_type": "markdown",
   "metadata": {},
   "source": [
    "One thing that may explain the size differential of the subjects is the species type. There are 3 types of penguin in the current dataset. The Adelie Penguin, the Gentoo penguin, and the Chinstrap penguin. There looks to be more data available for the Adelie and Gentoo Penguin than the Chinstrap in this dataset. Below is a picture detailing the physical appearance of the 3 species.\n",
    "\n",
    "![Chinstrap Penguin](https://raw.githubusercontent.com/kaob1991/Programming-project/main/pengiuns.jpeg)"
   ]
  },
  {
   "cell_type": "code",
   "execution_count": 7,
   "metadata": {},
   "outputs": [
    {
     "data": {
      "text/plain": [
       "Adelie Penguin (Pygoscelis adeliae)          152\n",
       "Gentoo penguin (Pygoscelis papua)            124\n",
       "Chinstrap penguin (Pygoscelis antarctica)     68\n",
       "Name: Species, dtype: int64"
      ]
     },
     "execution_count": 7,
     "metadata": {},
     "output_type": "execute_result"
    }
   ],
   "source": [
    "penguins[\"Species\"].value_counts()\n"
   ]
  },
  {
   "cell_type": "markdown",
   "metadata": {},
   "source": [
    "The other variable that is commonly associated with a weight differential is sex, with the males of most species of animals often weighing more. The scatterplot below would seem to add credence to that theory where the males consistently weigh more than the females. It also would seem that the \"Gentoo\" species is a overall heavier bird than the Adelie and the Chinstrap penguin. Interestingly, the Chinstrap penguin looks to have a slightly greater variance overall in weight, when accounting for the number of variables in the data. "
   ]
  },
  {
   "cell_type": "code",
   "execution_count": 8,
   "metadata": {},
   "outputs": [
    {
     "data": {
      "text/plain": [
       "<AxesSubplot:xlabel='Species', ylabel='Body Mass (g)'>"
      ]
     },
     "execution_count": 8,
     "metadata": {},
     "output_type": "execute_result"
    },
    {
     "data": {
      "image/png": "[encoded data removed]",
      "text/plain": [
       "<Figure size 432x288 with 1 Axes>"
      ]
     },
     "metadata": {
      "needs_background": "light"
     },
     "output_type": "display_data"
    }
   ],
   "source": [
    "sns.scatterplot(data = penguins, x = \"Species\",y= \"Body Mass (g)\", hue = \"Sex\")"
   ]
  },
  {
   "cell_type": "markdown",
   "metadata": {},
   "source": [
    "After establishing there is possibly a relationship between the sex of the penguin, and body mass, the next step is to split the dataset into three, based on the species type. This will allow us have a clearer distribution of the data above, and to continue our investigation, and simulation of the data. "
   ]
  },
  {
   "cell_type": "code",
   "execution_count": 9,
   "metadata": {},
   "outputs": [],
   "source": [
    "adelie_data = penguins.loc [penguins [\"Species\"] == \"Adelie Penguin (Pygoscelis adeliae)\"]\n",
    "chinstrap_data = penguins.loc [penguins [\"Species\"] == \"Chinstrap penguin (Pygoscelis antarctica)\"]\n",
    "gentoo_data = penguins.loc [penguins [\"Species\"] == \"Gentoo penguin (Pygoscelis papua)\"]\n"
   ]
  },
  {
   "cell_type": "markdown",
   "metadata": {},
   "source": [
    "## Histograms of body weight\n",
    "***\n",
    "The body weights of the birds are drawn below. I've also added a kernel density estimate (KDE) as this will help smooth the data out and provide a clearer view of data trends. \n",
    "<br>\n",
    "\n",
    "There are 3 histograms below relating to the body weight of the 3 birds in the following order:\n",
    "- Gentoo Penguin\n",
    "- Adelie Penguin\n",
    "- Chinstrap penguin"
   ]
  },
  {
   "cell_type": "code",
   "execution_count": 37,
   "metadata": {},
   "outputs": [
    {
     "data": {
      "text/plain": [
       "Text(0.5, 1.0, 'Gentoo Body Mass')"
      ]
     },
     "execution_count": 37,
     "metadata": {},
     "output_type": "execute_result"
    },
    {
     "data": {
      "image/png": "[encoded data removed]",
      "text/plain": [
       "<Figure size 432x288 with 1 Axes>"
      ]
     },
     "metadata": {
      "needs_background": "light"
     },
     "output_type": "display_data"
    }
   ],
   "source": [
    "sns.histplot(data = gentoo_data,x = \"Body Mass (g)\", kde = True)\n",
    "plt.title(\"Gentoo Body Mass\")"
   ]
  },
  {
   "cell_type": "code",
   "execution_count": 38,
   "metadata": {},
   "outputs": [
    {
     "data": {
      "text/plain": [
       "Text(0.5, 1.0, 'Adelie Body Mass')"
      ]
     },
     "execution_count": 38,
     "metadata": {},
     "output_type": "execute_result"
    },
    {
     "data": {
      "image/png": "[encoded data removed]",
      "text/plain": [
       "<Figure size 432x288 with 1 Axes>"
      ]
     },
     "metadata": {
      "needs_background": "light"
     },
     "output_type": "display_data"
    }
   ],
   "source": [
    "sns.histplot(data = adelie_data,x = \"Body Mass (g)\", kde = True)\n",
    "plt.title(\"Adelie Body Mass\")"
   ]
  },
  {
   "cell_type": "code",
   "execution_count": 39,
   "metadata": {},
   "outputs": [
    {
     "data": {
      "text/plain": [
       "Text(0.5, 1.0, 'Chinstrap Body Mass')"
      ]
     },
     "execution_count": 39,
     "metadata": {},
     "output_type": "execute_result"
    },
    {
     "data": {
      "image/png": "[encoded data removed]",
      "text/plain": [
       "<Figure size 432x288 with 1 Axes>"
      ]
     },
     "metadata": {
      "needs_background": "light"
     },
     "output_type": "display_data"
    }
   ],
   "source": [
    "sns.histplot(data = chinstrap_data,x = \"Body Mass (g)\", kde = True)\n",
    "plt.title(\"Chinstrap Body Mass\")"
   ]
  },
  {
   "cell_type": "markdown",
   "metadata": {},
   "source": [
    "Through these plots we can see a clearer indication of the distribution of body weight in the species. All the above have a fairly normal distribution of data; with the Chinstrap bird in particular fitting a Gaussian distribution."
   ]
  },
  {
   "cell_type": "markdown",
   "metadata": {},
   "source": [
    "# Examining Relationships\n",
    "\n",
    "Following the plotting of the body mass of each species, we next want to examine what relationship, if any, that the other variables have with the weight of the bird. There are 3 other variables we are interested in. These are **Flipper length**, **Culmen Length** and **Culmen Depth**. \n",
    "These measurements are all in millimeters.\n",
    "\n",
    "One of the most effective ways to visualise a relationship between 2 variables is to use a scatterplot and below there are a series of 3 plots for each species. Each of these plots looks at the relationship between body mass and one of the 3 variables in bold above. \n",
    "\n",
    "The closer the markers on the plot resemble a **/** or **\\*** on the data the stronger the relationship. The more scattered the markers, the less likely it is that there is a linear relatinoship between the variables. \n",
    "\n",
    "Following each scatterplot, I have also ran ```corr()``` which examines the correlation between the variables on a scale or 0-1 with 0 having no relationship and 1 being a perfect relationship. "
   ]
  },
  {
   "cell_type": "markdown",
   "metadata": {},
   "source": [
    "# Chinstrap scatterplots & Correlation Table"
   ]
  },
  {
   "cell_type": "code",
   "execution_count": 40,
   "metadata": {},
   "outputs": [
    {
     "data": {
      "text/plain": [
       "Text(0.5, 0.98, 'Examining Relationships between Body Mass and other Variables')"
      ]
     },
     "execution_count": 40,
     "metadata": {},
     "output_type": "execute_result"
    },
    {
     "data": {
      "image/png": "[encoded data removed]",
      "text/plain": [
       "<Figure size 1224x288 with 3 Axes>"
      ]
     },
     "metadata": {
      "needs_background": "light"
     },
     "output_type": "display_data"
    }
   ],
   "source": [
    "fig, axes  = plt.subplots(1, 3, figsize=(17, 4))\n",
    "sns.scatterplot(ax = axes[0], data= chinstrap_data, x=\"Flipper Length (mm)\", y=\"Body Mass (g)\")\n",
    "sns.scatterplot(ax= axes[1],data= chinstrap_data, x=\"Culmen Length (mm)\", y=\"Body Mass (g)\")\n",
    "sns.scatterplot(ax = axes [2],data= chinstrap_data, x=\"Culmen Depth (mm)\", y=\"Body Mass (g)\")\n",
    "plt.suptitle(\"Examining Relationships between Body Mass and other Variables\")"
   ]
  },
  {
   "cell_type": "code",
   "execution_count": 16,
   "metadata": {},
   "outputs": [
    {
     "data": {
      "text/html": [
       "<div>\n",
       "<style scoped>\n",
       "    .dataframe tbody tr th:only-of-type {\n",
       "        vertical-align: middle;\n",
       "    }\n",
       "\n",
       "    .dataframe tbody tr th {\n",
       "        vertical-align: top;\n",
       "    }\n",
       "\n",
       "    .dataframe thead th {\n",
       "        text-align: right;\n",
       "    }\n",
       "</style>\n",
       "<table border=\"1\" class=\"dataframe\">\n",
       "  <thead>\n",
       "    <tr style=\"text-align: right;\">\n",
       "      <th></th>\n",
       "      <th>Culmen Length (mm)</th>\n",
       "      <th>Culmen Depth (mm)</th>\n",
       "      <th>Flipper Length (mm)</th>\n",
       "      <th>Body Mass (g)</th>\n",
       "    </tr>\n",
       "  </thead>\n",
       "  <tbody>\n",
       "    <tr>\n",
       "      <th>Culmen Length (mm)</th>\n",
       "      <td>1.00</td>\n",
       "      <td>0.65</td>\n",
       "      <td>0.47</td>\n",
       "      <td>0.51</td>\n",
       "    </tr>\n",
       "    <tr>\n",
       "      <th>Culmen Depth (mm)</th>\n",
       "      <td>0.65</td>\n",
       "      <td>1.00</td>\n",
       "      <td>0.58</td>\n",
       "      <td>0.60</td>\n",
       "    </tr>\n",
       "    <tr>\n",
       "      <th>Flipper Length (mm)</th>\n",
       "      <td>0.47</td>\n",
       "      <td>0.58</td>\n",
       "      <td>1.00</td>\n",
       "      <td>0.64</td>\n",
       "    </tr>\n",
       "    <tr>\n",
       "      <th>Body Mass (g)</th>\n",
       "      <td>0.51</td>\n",
       "      <td>0.60</td>\n",
       "      <td>0.64</td>\n",
       "      <td>1.00</td>\n",
       "    </tr>\n",
       "  </tbody>\n",
       "</table>\n",
       "</div>"
      ],
      "text/plain": [
       "                     Culmen Length (mm)  Culmen Depth (mm)  \\\n",
       "Culmen Length (mm)                 1.00               0.65   \n",
       "Culmen Depth (mm)                  0.65               1.00   \n",
       "Flipper Length (mm)                0.47               0.58   \n",
       "Body Mass (g)                      0.51               0.60   \n",
       "\n",
       "                     Flipper Length (mm)  Body Mass (g)  \n",
       "Culmen Length (mm)                  0.47           0.51  \n",
       "Culmen Depth (mm)                   0.58           0.60  \n",
       "Flipper Length (mm)                 1.00           0.64  \n",
       "Body Mass (g)                       0.64           1.00  "
      ]
     },
     "execution_count": 16,
     "metadata": {},
     "output_type": "execute_result"
    }
   ],
   "source": [
    "chinstrap_data.corr()"
   ]
  },
  {
   "cell_type": "markdown",
   "metadata": {},
   "source": [
    "Following the running of these 2 functions for the Chinstrap Penguin it can be seen that there is a moderate positive relationship between body mass and Flipper Length, and Culmen depth, but there is a low relationship between the length of the Culmen and the Chinstrap penguins weight. "
   ]
  },
  {
   "cell_type": "markdown",
   "metadata": {},
   "source": [
    "# Adelie Scatterplots & Correlation Tables"
   ]
  },
  {
   "cell_type": "code",
   "execution_count": 42,
   "metadata": {},
   "outputs": [
    {
     "data": {
      "text/plain": [
       "Text(0.5, 0.98, 'Examining Relationships between Body Mass and other Variables')"
      ]
     },
     "execution_count": 42,
     "metadata": {},
     "output_type": "execute_result"
    },
    {
     "data": {
      "image/png": "[encoded data removed]",
      "text/plain": [
       "<Figure size 1224x288 with 3 Axes>"
      ]
     },
     "metadata": {
      "needs_background": "light"
     },
     "output_type": "display_data"
    }
   ],
   "source": [
    "fig, axes  = plt.subplots(1, 3, figsize=(17, 4))\n",
    "sns.scatterplot(ax = axes[0], data= adelie_data, x=\"Flipper Length (mm)\", y=\"Body Mass (g)\")\n",
    "sns.scatterplot(ax= axes[1],data= adelie_data, x=\"Culmen Length (mm)\", y=\"Body Mass (g)\")\n",
    "sns.scatterplot(ax = axes [2],data= adelie_data, x=\"Culmen Depth (mm)\", y=\"Body Mass (g)\")\n",
    "plt.suptitle(\"Examining Relationships between Body Mass and other Variables\")"
   ]
  },
  {
   "cell_type": "code",
   "execution_count": 20,
   "metadata": {},
   "outputs": [
    {
     "data": {
      "text/html": [
       "<div>\n",
       "<style scoped>\n",
       "    .dataframe tbody tr th:only-of-type {\n",
       "        vertical-align: middle;\n",
       "    }\n",
       "\n",
       "    .dataframe tbody tr th {\n",
       "        vertical-align: top;\n",
       "    }\n",
       "\n",
       "    .dataframe thead th {\n",
       "        text-align: right;\n",
       "    }\n",
       "</style>\n",
       "<table border=\"1\" class=\"dataframe\">\n",
       "  <thead>\n",
       "    <tr style=\"text-align: right;\">\n",
       "      <th></th>\n",
       "      <th>Culmen Length (mm)</th>\n",
       "      <th>Culmen Depth (mm)</th>\n",
       "      <th>Flipper Length (mm)</th>\n",
       "      <th>Body Mass (g)</th>\n",
       "    </tr>\n",
       "  </thead>\n",
       "  <tbody>\n",
       "    <tr>\n",
       "      <th>Culmen Length (mm)</th>\n",
       "      <td>1.00</td>\n",
       "      <td>0.39</td>\n",
       "      <td>0.33</td>\n",
       "      <td>0.55</td>\n",
       "    </tr>\n",
       "    <tr>\n",
       "      <th>Culmen Depth (mm)</th>\n",
       "      <td>0.39</td>\n",
       "      <td>1.00</td>\n",
       "      <td>0.31</td>\n",
       "      <td>0.58</td>\n",
       "    </tr>\n",
       "    <tr>\n",
       "      <th>Flipper Length (mm)</th>\n",
       "      <td>0.33</td>\n",
       "      <td>0.31</td>\n",
       "      <td>1.00</td>\n",
       "      <td>0.47</td>\n",
       "    </tr>\n",
       "    <tr>\n",
       "      <th>Body Mass (g)</th>\n",
       "      <td>0.55</td>\n",
       "      <td>0.58</td>\n",
       "      <td>0.47</td>\n",
       "      <td>1.00</td>\n",
       "    </tr>\n",
       "  </tbody>\n",
       "</table>\n",
       "</div>"
      ],
      "text/plain": [
       "                     Culmen Length (mm)  Culmen Depth (mm)  \\\n",
       "Culmen Length (mm)                 1.00               0.39   \n",
       "Culmen Depth (mm)                  0.39               1.00   \n",
       "Flipper Length (mm)                0.33               0.31   \n",
       "Body Mass (g)                      0.55               0.58   \n",
       "\n",
       "                     Flipper Length (mm)  Body Mass (g)  \n",
       "Culmen Length (mm)                  0.33           0.55  \n",
       "Culmen Depth (mm)                   0.31           0.58  \n",
       "Flipper Length (mm)                 1.00           0.47  \n",
       "Body Mass (g)                       0.47           1.00  "
      ]
     },
     "execution_count": 20,
     "metadata": {},
     "output_type": "execute_result"
    }
   ],
   "source": [
    "adelie_data.corr()"
   ]
  },
  {
   "cell_type": "markdown",
   "metadata": {},
   "source": [
    "Looking at the data created for the Adelie penguin with the correlation table and the scatterplots there appears to be a low positive relationship with the body weight of the penguin and the 3 other measured variables. From the 3 variables the strongest relationship with the body mass of the Adelie penguin is Culmen Depth, but again is a moderate-poor positive relationship. "
   ]
  },
  {
   "cell_type": "markdown",
   "metadata": {},
   "source": [
    "# Gentoo Scatterplots & Correlation Tables "
   ]
  },
  {
   "cell_type": "code",
   "execution_count": 41,
   "metadata": {},
   "outputs": [
    {
     "data": {
      "text/plain": [
       "Text(0.5, 0.98, 'Examining Relationships between Body Mass and other Variables')"
      ]
     },
     "execution_count": 41,
     "metadata": {},
     "output_type": "execute_result"
    },
    {
     "data": {
      "image/png": "[encoded data removed]",
      "text/plain": [
       "<Figure size 1224x288 with 3 Axes>"
      ]
     },
     "metadata": {
      "needs_background": "light"
     },
     "output_type": "display_data"
    }
   ],
   "source": [
    "fig, axes  = plt.subplots(1, 3, figsize=(17, 4))\n",
    "sns.scatterplot(ax = axes[0], data= gentoo_data, x=\"Flipper Length (mm)\", y=\"Body Mass (g)\")\n",
    "sns.scatterplot(ax= axes[1],data= gentoo_data, x=\"Culmen Length (mm)\", y=\"Body Mass (g)\")\n",
    "sns.scatterplot(ax = axes [2],data= gentoo_data, x=\"Culmen Depth (mm)\", y=\"Body Mass (g)\")\n",
    "plt.suptitle(\"Examining Relationships between Body Mass and other Variables\")"
   ]
  },
  {
   "cell_type": "code",
   "execution_count": 34,
   "metadata": {},
   "outputs": [
    {
     "data": {
      "text/html": [
       "<div>\n",
       "<style scoped>\n",
       "    .dataframe tbody tr th:only-of-type {\n",
       "        vertical-align: middle;\n",
       "    }\n",
       "\n",
       "    .dataframe tbody tr th {\n",
       "        vertical-align: top;\n",
       "    }\n",
       "\n",
       "    .dataframe thead th {\n",
       "        text-align: right;\n",
       "    }\n",
       "</style>\n",
       "<table border=\"1\" class=\"dataframe\">\n",
       "  <thead>\n",
       "    <tr style=\"text-align: right;\">\n",
       "      <th></th>\n",
       "      <th>Culmen Length (mm)</th>\n",
       "      <th>Culmen Depth (mm)</th>\n",
       "      <th>Flipper Length (mm)</th>\n",
       "      <th>Body Mass (g)</th>\n",
       "    </tr>\n",
       "  </thead>\n",
       "  <tbody>\n",
       "    <tr>\n",
       "      <th>Culmen Length (mm)</th>\n",
       "      <td>1.00</td>\n",
       "      <td>0.64</td>\n",
       "      <td>0.66</td>\n",
       "      <td>0.67</td>\n",
       "    </tr>\n",
       "    <tr>\n",
       "      <th>Culmen Depth (mm)</th>\n",
       "      <td>0.64</td>\n",
       "      <td>1.00</td>\n",
       "      <td>0.71</td>\n",
       "      <td>0.72</td>\n",
       "    </tr>\n",
       "    <tr>\n",
       "      <th>Flipper Length (mm)</th>\n",
       "      <td>0.66</td>\n",
       "      <td>0.71</td>\n",
       "      <td>1.00</td>\n",
       "      <td>0.70</td>\n",
       "    </tr>\n",
       "    <tr>\n",
       "      <th>Body Mass (g)</th>\n",
       "      <td>0.67</td>\n",
       "      <td>0.72</td>\n",
       "      <td>0.70</td>\n",
       "      <td>1.00</td>\n",
       "    </tr>\n",
       "  </tbody>\n",
       "</table>\n",
       "</div>"
      ],
      "text/plain": [
       "                     Culmen Length (mm)  Culmen Depth (mm)  \\\n",
       "Culmen Length (mm)                 1.00               0.64   \n",
       "Culmen Depth (mm)                  0.64               1.00   \n",
       "Flipper Length (mm)                0.66               0.71   \n",
       "Body Mass (g)                      0.67               0.72   \n",
       "\n",
       "                     Flipper Length (mm)  Body Mass (g)  \n",
       "Culmen Length (mm)                  0.66           0.67  \n",
       "Culmen Depth (mm)                   0.71           0.72  \n",
       "Flipper Length (mm)                 1.00           0.70  \n",
       "Body Mass (g)                       0.70           1.00  "
      ]
     },
     "execution_count": 34,
     "metadata": {},
     "output_type": "execute_result"
    }
   ],
   "source": [
    "gentoo_data.corr()"
   ]
  },
  {
   "cell_type": "markdown",
   "metadata": {},
   "source": [
    "Looking at the data returned in the correlation tables and scatterplots for the Gentoo Penguin; there appears to be a moderate to strong relationship between the body mass of the bird and Culmen depth and Flipper Length. There is also a moderate relationship between the weight of the bird, and the length of the Culmen. "
   ]
  },
  {
   "cell_type": "markdown",
   "metadata": {},
   "source": [
    "Having investigated the correlation between body mass and the other 3 variables of each of the species the only one that has a strong relationship is the Gentoo Species. Therefore we will continue our investigations using just this species as the body mass is a good predictor of the other variables. \n",
    "\n",
    "Taking a closer look at the Gentoo species and the relationship with the sex of the bird, we can see on average the body mass for the male is 5484.84 grams and the female is 4679.74 grams."
   ]
  },
  {
   "cell_type": "code",
   "execution_count": null,
   "metadata": {},
   "outputs": [],
   "source": [
    "gentoo_female = gentoo_data.loc [gentoo_data [\"Sex\"] == \"FEMALE\"]\n",
    "gentoo_male = gentoo_data.loc [gentoo_data [\"Sex\"] == \"MALE\"]"
   ]
  },
  {
   "cell_type": "code",
   "execution_count": null,
   "metadata": {},
   "outputs": [],
   "source": [
    "gentoo_female.describe()"
   ]
  },
  {
   "cell_type": "code",
   "execution_count": null,
   "metadata": {},
   "outputs": [],
   "source": [
    "gentoo_male.describe()"
   ]
  },
  {
   "cell_type": "markdown",
   "metadata": {},
   "source": [
    "# Graphical display\n",
    "\n",
    "## Histogram of Gentoo Penguins \n",
    "\n",
    "Below are 4 histograms, these show the distribution in size of the 4 variables in the dataset. It can be seen that culmen length is significantly shorter in the females than the males with the mean around the 45mm mark in females in comparison to the male at around the 49mm mark. Equally, the Flipper length and Culmen Depth  is greater in males then females"
   ]
  },
  {
   "cell_type": "code",
   "execution_count": null,
   "metadata": {},
   "outputs": [],
   "source": [
    "fig, axes  = plt.subplots(2, 2, figsize=(18, 10))\n",
    "sns.histplot(ax=axes[0, 0],data= gentoo_data, x = \"Body Mass (g)\", hue = \"Sex\", bins = 15, kde = True)\n",
    "sns.histplot(ax=axes[0, 1],data= gentoo_data, x = \"Flipper Length (mm)\", hue = \"Sex\", bins = 15, kde = True)\n",
    "sns.histplot(ax=axes[1, 0],data= gentoo_data, x = \"Culmen Length (mm)\", hue = \"Sex\", bins = 15, kde = True)\n",
    "sns.histplot(ax=axes[1, 1],data= gentoo_data, x = \"Culmen Depth (mm)\", hue = \"Sex\", bins = 15, kde = True)\n"
   ]
  },
  {
   "cell_type": "markdown",
   "metadata": {},
   "source": [
    "## Graphical data by sex \n",
    "\n",
    "### Females\n"
   ]
  },
  {
   "cell_type": "code",
   "execution_count": null,
   "metadata": {},
   "outputs": [],
   "source": [
    "fig, axes  = plt.subplots(2, 2, figsize=(18, 10))\n",
    "sns.histplot(ax=axes[0, 0],data= gentoo_female, x = \"Body Mass (g)\", bins = 15, kde = True)\n",
    "sns.histplot(ax=axes[0, 1],data= gentoo_female, x = \"Flipper Length (mm)\", bins = 15, kde = True)\n",
    "sns.histplot(ax=axes[1, 0],data= gentoo_female, x = \"Culmen Length (mm)\", bins = 15, kde = True)\n",
    "sns.histplot(ax=axes[1, 1],data= gentoo_female, x = \"Culmen Depth (mm)\", bins = 15, kde = True)\n"
   ]
  },
  {
   "cell_type": "markdown",
   "metadata": {},
   "source": [
    "## Interpreting the data \n",
    "\n",
    "From the histogram above we can draw a number of conclusions about the distribution of the variables. \n",
    "\n",
    "In the case of the **Body Mass** we can see that the data has a fairly standard normal distribution, with a slight negative (left) skewness to it. \n",
    "\n",
    "With the data for **flipper length** conversely, while this also has a normal standard distribution, there is a skewness to the right (positive).\n",
    "\n",
    "**Culmen length** has a relatively normal distribution to it also. \n",
    "\n",
    "Finally **Culmen Depth** is a normal distribution, with greater degrees of freedom than the others. \n"
   ]
  },
  {
   "cell_type": "code",
   "execution_count": null,
   "metadata": {},
   "outputs": [],
   "source": [
    "fig, axes  = plt.subplots(2, 2, figsize=(18, 10))\n",
    "sns.histplot(ax=axes[0, 0],data= gentoo_male, x = \"Body Mass (g)\", bins = 15, kde= True)\n",
    "sns.histplot(ax=axes[0, 1],data= gentoo_male, x = \"Flipper Length (mm)\", bins = 15, kde= True)\n",
    "sns.histplot(ax=axes[1, 0],data= gentoo_male, x = \"Culmen Length (mm)\", bins = 15, kde = True)\n",
    "sns.histplot(ax=axes[1, 1],data= gentoo_male, x = \"Culmen Depth (mm)\", bins = 15, kde = True)"
   ]
  },
  {
   "cell_type": "code",
   "execution_count": null,
   "metadata": {},
   "outputs": [],
   "source": []
  },
  {
   "cell_type": "markdown",
   "metadata": {},
   "source": [
    "## Synthesising data \n",
    "\n",
    "Following our investigation of the data in the original dataset we can then begin to synthesise data based on this. There are a number of ways to create data. Firstly we could use ```numpy.random``` to create a dataset but the main draw back of using this is that it requires a lot more work to get the data in one column to correlate to the other data in the other columns. For this reason it was decided that the original dataset could be used with ```scikit.learn``` to use Machine learning to aid in the development of the synthesised data.  "
   ]
  },
  {
   "cell_type": "code",
   "execution_count": null,
   "metadata": {},
   "outputs": [],
   "source": []
  },
  {
   "cell_type": "markdown",
   "metadata": {},
   "source": [
    "# REFERENCES\n",
    "\n",
    "- https://towardsdatascience.com/data-analysis-in-python-getting-started-with-pandas-8cbcc1500c83\n",
    "\n",
    "- https://dev.to/thalesbruno/subplotting-with-matplotlib-and-seaborn-5ei8\n",
    "\n",
    "- https://www.dummies.com/article/academics-the-arts/math/statistics/how-to-interpret-a-scatterplot-169358\n",
    "\n",
    "- https://statisticsbyjim.com/basics/correlations/"
   ]
  },
  {
   "cell_type": "code",
   "execution_count": null,
   "metadata": {},
   "outputs": [],
   "source": []
  }
 ],
 "metadata": {
  "kernelspec": {
   "display_name": "Python 3",
   "language": "python",
   "name": "python3"
  },
  "language_info": {
   "codemirror_mode": {
    "name": "ipython",
    "version": 3
   },
   "file_extension": ".py",
   "mimetype": "text/x-python",
   "name": "python",
   "nbconvert_exporter": "python",
   "pygments_lexer": "ipython3",
   "version": "3.8.5"
  }
 },
 "nbformat": 4,
 "nbformat_minor": 4
}
